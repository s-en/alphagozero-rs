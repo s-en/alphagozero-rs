{
 "metadata": {
  "language_info": {
   "codemirror_mode": {
    "name": "ipython",
    "version": 3
   },
   "file_extension": ".py",
   "mimetype": "text/x-python",
   "name": "python",
   "nbconvert_exporter": "python",
   "pygments_lexer": "ipython3",
   "version": "3.8.5"
  },
  "orig_nbformat": 2,
  "kernelspec": {
   "name": "python3",
   "display_name": "Python 3.8.5 64-bit ('py38': conda)"
  },
  "metadata": {
   "interpreter": {
    "hash": "a9bf1f2e6bcf5a5ddc2db4e74af98a8bb6c9f182239da13cf8d6aee21f00f13f"
   }
  },
  "interpreter": {
   "hash": "a9bf1f2e6bcf5a5ddc2db4e74af98a8bb6c9f182239da13cf8d6aee21f00f13f"
  }
 },
 "nbformat": 4,
 "nbformat_minor": 2,
 "cells": [
  {
   "cell_type": "code",
   "execution_count": 1,
   "source": [
    "import torch\n",
    "from onnx_tf.backend import prepare\n",
    "import onnx\n",
    "import tensorflow as tf"
   ],
   "outputs": [],
   "metadata": {}
  },
  {
   "cell_type": "code",
   "execution_count": 2,
   "source": [
    "loaded = torch.jit.load('temp/best.pt')\n",
    "print(loaded)"
   ],
   "outputs": [
    {
     "output_type": "stream",
     "name": "stdout",
     "text": [
      "RecursiveScriptModule(\n",
      "  original_name=DualNet\n",
      "  (conv1): RecursiveScriptModule(original_name=Conv2d)\n",
      "  (bn1): RecursiveScriptModule(original_name=BatchNorm2d)\n",
      "  (relu): RecursiveScriptModule(original_name=ReLU)\n",
      "  (layers): RecursiveScriptModule(\n",
      "    original_name=Sequential\n",
      "    (0): RecursiveScriptModule(\n",
      "      original_name=BasicBlock\n",
      "      (conv1): RecursiveScriptModule(original_name=Conv2d)\n",
      "      (bn1): RecursiveScriptModule(original_name=BatchNorm2d)\n",
      "      (relu): RecursiveScriptModule(original_name=ReLU)\n",
      "      (conv2): RecursiveScriptModule(original_name=Conv2d)\n",
      "      (bn2): RecursiveScriptModule(original_name=BatchNorm2d)\n",
      "      (downsample): RecursiveScriptModule(original_name=Sequential)\n",
      "    )\n",
      "    (1): RecursiveScriptModule(\n",
      "      original_name=BasicBlock\n",
      "      (conv1): RecursiveScriptModule(original_name=Conv2d)\n",
      "      (bn1): RecursiveScriptModule(original_name=BatchNorm2d)\n",
      "      (relu): RecursiveScriptModule(original_name=ReLU)\n",
      "      (conv2): RecursiveScriptModule(original_name=Conv2d)\n",
      "      (bn2): RecursiveScriptModule(original_name=BatchNorm2d)\n",
      "      (downsample): RecursiveScriptModule(original_name=Sequential)\n",
      "    )\n",
      "    (2): RecursiveScriptModule(\n",
      "      original_name=BasicBlock\n",
      "      (conv1): RecursiveScriptModule(original_name=Conv2d)\n",
      "      (bn1): RecursiveScriptModule(original_name=BatchNorm2d)\n",
      "      (relu): RecursiveScriptModule(original_name=ReLU)\n",
      "      (conv2): RecursiveScriptModule(original_name=Conv2d)\n",
      "      (bn2): RecursiveScriptModule(original_name=BatchNorm2d)\n",
      "      (downsample): RecursiveScriptModule(original_name=Sequential)\n",
      "    )\n",
      "    (3): RecursiveScriptModule(\n",
      "      original_name=BasicBlock\n",
      "      (conv1): RecursiveScriptModule(original_name=Conv2d)\n",
      "      (bn1): RecursiveScriptModule(original_name=BatchNorm2d)\n",
      "      (relu): RecursiveScriptModule(original_name=ReLU)\n",
      "      (conv2): RecursiveScriptModule(original_name=Conv2d)\n",
      "      (bn2): RecursiveScriptModule(original_name=BatchNorm2d)\n",
      "      (downsample): RecursiveScriptModule(original_name=Sequential)\n",
      "    )\n",
      "    (4): RecursiveScriptModule(\n",
      "      original_name=BasicBlock\n",
      "      (conv1): RecursiveScriptModule(original_name=Conv2d)\n",
      "      (bn1): RecursiveScriptModule(original_name=BatchNorm2d)\n",
      "      (relu): RecursiveScriptModule(original_name=ReLU)\n",
      "      (conv2): RecursiveScriptModule(original_name=Conv2d)\n",
      "      (bn2): RecursiveScriptModule(original_name=BatchNorm2d)\n",
      "      (downsample): RecursiveScriptModule(original_name=Sequential)\n",
      "    )\n",
      "  )\n",
      "  (pi): RecursiveScriptModule(\n",
      "    original_name=Sequential\n",
      "    (0): RecursiveScriptModule(original_name=Conv2d)\n",
      "    (1): RecursiveScriptModule(original_name=BatchNorm2d)\n",
      "    (2): RecursiveScriptModule(original_name=ReLU)\n",
      "    (3): RecursiveScriptModule(original_name=Flatten)\n",
      "    (4): RecursiveScriptModule(original_name=Linear)\n",
      "    (5): RecursiveScriptModule(original_name=LogSoftmax)\n",
      "  )\n",
      "  (v): RecursiveScriptModule(\n",
      "    original_name=Sequential\n",
      "    (0): RecursiveScriptModule(original_name=Conv2d)\n",
      "    (1): RecursiveScriptModule(original_name=BatchNorm2d)\n",
      "    (2): RecursiveScriptModule(original_name=ReLU)\n",
      "    (3): RecursiveScriptModule(original_name=Flatten)\n",
      "    (4): RecursiveScriptModule(original_name=Linear)\n",
      "    (5): RecursiveScriptModule(original_name=ReLU)\n",
      "    (6): RecursiveScriptModule(original_name=Linear)\n",
      "  )\n",
      ")\n"
     ]
    }
   ],
   "metadata": {}
  },
  {
   "cell_type": "code",
   "execution_count": 3,
   "source": [
    "loaded.eval()\n",
    "dummy_input = torch.randn((16, 12, 5, 5))\n",
    "torch.onnx.export(loaded, dummy_input, \"dualnet.onnx\", example_outputs=torch.rand((16, 27)), verbose=True)"
   ],
   "outputs": [
    {
     "output_type": "stream",
     "name": "stderr",
     "text": [
      "C:\\Users\\sen\\anaconda3\\envs\\py38\\lib\\site-packages\\torch\\onnx\\utils.py:348: UserWarning: Model has no forward function\n",
      "  warnings.warn(\"Model has no forward function\")\n",
      "C:\\Users\\sen\\anaconda3\\envs\\py38\\lib\\site-packages\\torch\\onnx\\symbolic_helper.py:677: UserWarning: ONNX export mode is set to inference mode, but operator batch_norm is set to training  mode. The model will be exported in inference, as specified by the export mode.\n",
      "  warnings.warn(\"ONNX export mode is set to \" + training_mode +\n"
     ]
    },
    {
     "output_type": "stream",
     "name": "stdout",
     "text": [
      "graph(%x.1 : Float(16, 12, 5, 5, strides=[300, 25, 5, 1], requires_grad=0, device=cpu),\n",
      "      %pi.4.bias : Float(26, strides=[1], requires_grad=0, device=cuda:0),\n",
      "      %pi.4.weight : Float(26, 800, strides=[800, 1], requires_grad=0, device=cuda:0),\n",
      "      %v.4.bias : Float(32, strides=[1], requires_grad=0, device=cuda:0),\n",
      "      %v.4.weight : Float(32, 75, strides=[75, 1], requires_grad=0, device=cuda:0),\n",
      "      %v.6.bias : Float(1, strides=[1], requires_grad=0, device=cuda:0),\n",
      "      %v.6.weight : Float(1, 32, strides=[32, 1], requires_grad=0, device=cuda:0),\n",
      "      %129 : Float(32, 12, 3, 3, strides=[108, 9, 3, 1], requires_grad=0, device=cuda:0),\n",
      "      %130 : Float(32, strides=[1], requires_grad=0, device=cuda:0),\n",
      "      %132 : Float(32, 32, 3, 3, strides=[288, 9, 3, 1], requires_grad=0, device=cuda:0),\n",
      "      %133 : Float(32, strides=[1], requires_grad=0, device=cuda:0),\n",
      "      %135 : Float(32, 32, 3, 3, strides=[288, 9, 3, 1], requires_grad=0, device=cuda:0),\n",
      "      %136 : Float(32, strides=[1], requires_grad=0, device=cuda:0),\n",
      "      %138 : Float(32, 32, 3, 3, strides=[288, 9, 3, 1], requires_grad=0, device=cuda:0),\n",
      "      %139 : Float(32, strides=[1], requires_grad=0, device=cuda:0),\n",
      "      %141 : Float(32, 32, 3, 3, strides=[288, 9, 3, 1], requires_grad=0, device=cuda:0),\n",
      "      %142 : Float(32, strides=[1], requires_grad=0, device=cuda:0),\n",
      "      %144 : Float(32, 32, 3, 3, strides=[288, 9, 3, 1], requires_grad=0, device=cuda:0),\n",
      "      %145 : Float(32, strides=[1], requires_grad=0, device=cuda:0),\n",
      "      %147 : Float(32, 32, 3, 3, strides=[288, 9, 3, 1], requires_grad=0, device=cuda:0),\n",
      "      %148 : Float(32, strides=[1], requires_grad=0, device=cuda:0),\n",
      "      %150 : Float(32, 32, 3, 3, strides=[288, 9, 3, 1], requires_grad=0, device=cuda:0),\n",
      "      %151 : Float(32, strides=[1], requires_grad=0, device=cuda:0),\n",
      "      %153 : Float(32, 32, 3, 3, strides=[288, 9, 3, 1], requires_grad=0, device=cuda:0),\n",
      "      %154 : Float(32, strides=[1], requires_grad=0, device=cuda:0),\n",
      "      %156 : Float(32, 32, 3, 3, strides=[288, 9, 3, 1], requires_grad=0, device=cuda:0),\n",
      "      %157 : Float(32, strides=[1], requires_grad=0, device=cuda:0),\n",
      "      %159 : Float(32, 32, 3, 3, strides=[288, 9, 3, 1], requires_grad=0, device=cuda:0),\n",
      "      %160 : Float(32, strides=[1], requires_grad=0, device=cuda:0),\n",
      "      %162 : Float(32, 32, 1, 1, strides=[32, 1, 1, 1], requires_grad=0, device=cuda:0),\n",
      "      %163 : Float(32, strides=[1], requires_grad=0, device=cuda:0),\n",
      "      %165 : Float(3, 32, 1, 1, strides=[32, 1, 1, 1], requires_grad=0, device=cuda:0),\n",
      "      %166 : Float(3, strides=[1], requires_grad=0, device=cuda:0)):\n",
      "  %72 : Long(4, strides=[1], device=cpu) = onnx::Constant[value= -1  12   5   5 [ CPULongType{4} ]]()\n",
      "  %73 : Float(16, 12, 5, 5, strides=[300, 25, 5, 1], device=cpu) = onnx::Reshape(%x.1, %72) # dualnet.py:77:0\n",
      "  %128 : Float(16, 32, 5, 5, strides=[800, 25, 5, 1], device=cpu) = onnx::Conv[dilations=[1, 1], group=1, kernel_shape=[3, 3], pads=[1, 1, 1, 1], strides=[1, 1]](%73, %129, %130)\n",
      "  %76 : Float(16, 32, 5, 5, strides=[800, 25, 5, 1], device=cpu) = onnx::Relu(%128) # C:\\Users\\sen\\anaconda3\\envs\\py38\\lib\\site-packages\\torch\\nn\\functional.py:1204:0\n",
      "  %131 : Float(16, 32, 5, 5, strides=[800, 25, 5, 1], device=cpu) = onnx::Conv[dilations=[1, 1], group=1, kernel_shape=[3, 3], pads=[1, 1, 1, 1], strides=[1, 1]](%76, %132, %133)\n",
      "  %79 : Float(16, 32, 5, 5, strides=[800, 25, 5, 1], device=cpu) = onnx::Relu(%131) # C:\\Users\\sen\\anaconda3\\envs\\py38\\lib\\site-packages\\torch\\nn\\functional.py:1204:0\n",
      "  %134 : Float(16, 32, 5, 5, strides=[800, 25, 5, 1], device=cpu) = onnx::Conv[dilations=[1, 1], group=1, kernel_shape=[3, 3], pads=[1, 1, 1, 1], strides=[1, 1]](%79, %135, %136)\n",
      "  %82 : Float(16, 32, 5, 5, strides=[800, 25, 5, 1], device=cpu) = onnx::Add(%134, %76) # dualnet.py:33:0\n",
      "  %83 : Float(16, 32, 5, 5, strides=[800, 25, 5, 1], device=cpu) = onnx::Relu(%82) # C:\\Users\\sen\\anaconda3\\envs\\py38\\lib\\site-packages\\torch\\nn\\functional.py:1204:0\n",
      "  %137 : Float(16, 32, 5, 5, strides=[800, 25, 5, 1], device=cpu) = onnx::Conv[dilations=[1, 1], group=1, kernel_shape=[3, 3], pads=[1, 1, 1, 1], strides=[1, 1]](%83, %138, %139)\n",
      "  %86 : Float(16, 32, 5, 5, strides=[800, 25, 5, 1], device=cpu) = onnx::Relu(%137) # C:\\Users\\sen\\anaconda3\\envs\\py38\\lib\\site-packages\\torch\\nn\\functional.py:1204:0\n",
      "  %140 : Float(16, 32, 5, 5, strides=[800, 25, 5, 1], device=cpu) = onnx::Conv[dilations=[1, 1], group=1, kernel_shape=[3, 3], pads=[1, 1, 1, 1], strides=[1, 1]](%86, %141, %142)\n",
      "  %89 : Float(16, 32, 5, 5, strides=[800, 25, 5, 1], device=cpu) = onnx::Add(%140, %83) # dualnet.py:33:0\n",
      "  %90 : Float(16, 32, 5, 5, strides=[800, 25, 5, 1], device=cpu) = onnx::Relu(%89) # C:\\Users\\sen\\anaconda3\\envs\\py38\\lib\\site-packages\\torch\\nn\\functional.py:1204:0\n",
      "  %143 : Float(16, 32, 5, 5, strides=[800, 25, 5, 1], device=cpu) = onnx::Conv[dilations=[1, 1], group=1, kernel_shape=[3, 3], pads=[1, 1, 1, 1], strides=[1, 1]](%90, %144, %145)\n",
      "  %93 : Float(16, 32, 5, 5, strides=[800, 25, 5, 1], device=cpu) = onnx::Relu(%143) # C:\\Users\\sen\\anaconda3\\envs\\py38\\lib\\site-packages\\torch\\nn\\functional.py:1204:0\n",
      "  %146 : Float(16, 32, 5, 5, strides=[800, 25, 5, 1], device=cpu) = onnx::Conv[dilations=[1, 1], group=1, kernel_shape=[3, 3], pads=[1, 1, 1, 1], strides=[1, 1]](%93, %147, %148)\n",
      "  %96 : Float(16, 32, 5, 5, strides=[800, 25, 5, 1], device=cpu) = onnx::Add(%146, %90) # dualnet.py:33:0\n",
      "  %97 : Float(16, 32, 5, 5, strides=[800, 25, 5, 1], device=cpu) = onnx::Relu(%96) # C:\\Users\\sen\\anaconda3\\envs\\py38\\lib\\site-packages\\torch\\nn\\functional.py:1204:0\n",
      "  %149 : Float(16, 32, 5, 5, strides=[800, 25, 5, 1], device=cpu) = onnx::Conv[dilations=[1, 1], group=1, kernel_shape=[3, 3], pads=[1, 1, 1, 1], strides=[1, 1]](%97, %150, %151)\n",
      "  %100 : Float(16, 32, 5, 5, strides=[800, 25, 5, 1], device=cpu) = onnx::Relu(%149) # C:\\Users\\sen\\anaconda3\\envs\\py38\\lib\\site-packages\\torch\\nn\\functional.py:1204:0\n",
      "  %152 : Float(16, 32, 5, 5, strides=[800, 25, 5, 1], device=cpu) = onnx::Conv[dilations=[1, 1], group=1, kernel_shape=[3, 3], pads=[1, 1, 1, 1], strides=[1, 1]](%100, %153, %154)\n",
      "  %103 : Float(16, 32, 5, 5, strides=[800, 25, 5, 1], device=cpu) = onnx::Add(%152, %97) # dualnet.py:33:0\n",
      "  %104 : Float(16, 32, 5, 5, strides=[800, 25, 5, 1], device=cpu) = onnx::Relu(%103) # C:\\Users\\sen\\anaconda3\\envs\\py38\\lib\\site-packages\\torch\\nn\\functional.py:1204:0\n",
      "  %155 : Float(16, 32, 5, 5, strides=[800, 25, 5, 1], device=cpu) = onnx::Conv[dilations=[1, 1], group=1, kernel_shape=[3, 3], pads=[1, 1, 1, 1], strides=[1, 1]](%104, %156, %157)\n",
      "  %107 : Float(16, 32, 5, 5, strides=[800, 25, 5, 1], device=cpu) = onnx::Relu(%155) # C:\\Users\\sen\\anaconda3\\envs\\py38\\lib\\site-packages\\torch\\nn\\functional.py:1204:0\n",
      "  %158 : Float(16, 32, 5, 5, strides=[800, 25, 5, 1], device=cpu) = onnx::Conv[dilations=[1, 1], group=1, kernel_shape=[3, 3], pads=[1, 1, 1, 1], strides=[1, 1]](%107, %159, %160)\n",
      "  %110 : Float(16, 32, 5, 5, strides=[800, 25, 5, 1], device=cpu) = onnx::Add(%158, %104) # dualnet.py:33:0\n",
      "  %111 : Float(16, 32, 5, 5, strides=[800, 25, 5, 1], device=cpu) = onnx::Relu(%110) # C:\\Users\\sen\\anaconda3\\envs\\py38\\lib\\site-packages\\torch\\nn\\functional.py:1204:0\n",
      "  %161 : Float(16, 32, 5, 5, strides=[800, 25, 5, 1], device=cpu) = onnx::Conv[dilations=[1, 1], group=1, kernel_shape=[1, 1], pads=[0, 0, 0, 0], strides=[1, 1]](%111, %162, %163)\n",
      "  %114 : Float(16, 32, 5, 5, strides=[800, 25, 5, 1], device=cpu) = onnx::Relu(%161) # C:\\Users\\sen\\anaconda3\\envs\\py38\\lib\\site-packages\\torch\\nn\\functional.py:1204:0\n",
      "  %115 : Float(16, 800, strides=[800, 1], device=cpu) = onnx::Flatten[axis=1](%114) # C:\\Users\\sen\\anaconda3\\envs\\py38\\lib\\site-packages\\torch\\nn\\modules\\flatten.py:40:0\n",
      "  %116 : Float(16, 26, strides=[26, 1], device=cpu) = onnx::Gemm[alpha=1., beta=1., transB=1](%115, %pi.4.weight, %pi.4.bias) # C:\\Users\\sen\\anaconda3\\envs\\py38\\lib\\site-packages\\torch\\nn\\functional.py:1753:0\n",
      "  %117 : Float(16, 26, strides=[26, 1], device=cpu) = onnx::LogSoftmax[axis=1](%116) # C:\\Users\\sen\\anaconda3\\envs\\py38\\lib\\site-packages\\torch\\nn\\functional.py:1672:0\n",
      "  %118 : Float(16, 26, strides=[26, 1], device=cpu) = onnx::Exp(%117) # dualnet.py:82:0\n",
      "  %164 : Float(16, 3, 5, 5, strides=[75, 25, 5, 1], device=cpu) = onnx::Conv[dilations=[1, 1], group=1, kernel_shape=[1, 1], pads=[0, 0, 0, 0], strides=[1, 1]](%111, %165, %166)\n",
      "  %121 : Float(16, 3, 5, 5, strides=[75, 25, 5, 1], device=cpu) = onnx::Relu(%164) # C:\\Users\\sen\\anaconda3\\envs\\py38\\lib\\site-packages\\torch\\nn\\functional.py:1204:0\n",
      "  %122 : Float(16, 75, strides=[75, 1], device=cpu) = onnx::Flatten[axis=1](%121) # C:\\Users\\sen\\anaconda3\\envs\\py38\\lib\\site-packages\\torch\\nn\\modules\\flatten.py:40:0\n",
      "  %123 : Float(16, 32, strides=[32, 1], device=cpu) = onnx::Gemm[alpha=1., beta=1., transB=1](%122, %v.4.weight, %v.4.bias) # C:\\Users\\sen\\anaconda3\\envs\\py38\\lib\\site-packages\\torch\\nn\\functional.py:1753:0\n",
      "  %124 : Float(16, 32, strides=[32, 1], device=cpu) = onnx::Relu(%123) # C:\\Users\\sen\\anaconda3\\envs\\py38\\lib\\site-packages\\torch\\nn\\functional.py:1204:0\n",
      "  %125 : Float(16, 1, strides=[1, 1], device=cpu) = onnx::Gemm[alpha=1., beta=1., transB=1](%124, %v.6.weight, %v.6.bias) # C:\\Users\\sen\\anaconda3\\envs\\py38\\lib\\site-packages\\torch\\nn\\functional.py:1753:0\n",
      "  %126 : Float(16, 1, strides=[1, 1], device=cpu) = onnx::Tanh(%125) # dualnet.py:83:0\n",
      "  %127 : Float(16, 27, strides=[27, 1], requires_grad=0, device=cpu) = onnx::Concat[axis=1](%118, %126) # dualnet.py:84:0\n",
      "  return (%127)\n",
      "\n"
     ]
    }
   ],
   "metadata": {}
  },
  {
   "cell_type": "code",
   "execution_count": 4,
   "source": [
    "tf.autograph.experimental.do_not_convert\n",
    "onnx_model = onnx.load('dualnet.onnx')\n",
    "\n",
    "tf_rep = prepare(onnx_model, device='cpu')\n",
    "tf_rep.export_graph('model.pb')"
   ],
   "outputs": [
    {
     "output_type": "stream",
     "name": "stdout",
     "text": [
      "INFO:tensorflow:Assets written to: model.pb\\assets\n"
     ]
    }
   ],
   "metadata": {}
  },
  {
   "cell_type": "code",
   "execution_count": 5,
   "source": [
    "new_model = tf.saved_model.load('model.pb')\n",
    "f = new_model.signatures[\"serving_default\"]\n",
    "print(f)"
   ],
   "outputs": [
    {
     "output_type": "stream",
     "name": "stdout",
     "text": [
      "<ConcreteFunction signature_wrapper(x.1) at 0x184B00F4BE0>\n"
     ]
    }
   ],
   "metadata": {}
  },
  {
   "cell_type": "code",
   "execution_count": 6,
   "source": [
    "!cd train\n",
    "!tensorflowjs_converter --input_format=tf_saved_model --output_node_names='output_0' model.pb js_model --quantize_uint8"
   ],
   "outputs": [
    {
     "output_type": "stream",
     "name": "stderr",
     "text": [
      "�w�肳�ꂽ�p�X��������܂���B\n"
     ]
    },
    {
     "output_type": "stream",
     "name": "stdout",
     "text": [
      "Writing weight file js_model\\model.json...\n",
      "weight PartitionedCall/onnx_tf_prefix_Constant_0 with shape (4,) and dtype int64 was auto converted to the type int32\n",
      "weight PartitionedCall/Where with shape (0, 1) and dtype int64 was auto converted to the type int32\n",
      "weight PartitionedCall/Cast with shape (1,) and dtype int64 was auto converted to the type int32\n",
      "weight PartitionedCall/GatherV2 with shape (0,) and dtype int64 was auto converted to the type int32\n",
      "weight PartitionedCall/zeros with shape () and dtype int64 was auto converted to the type int32\n"
     ]
    },
    {
     "output_type": "stream",
     "name": "stderr",
     "text": [
      "2021-07-25 19:21:10.161269: I tensorflow/core/platform/cpu_feature_guard.cc:142] This TensorFlow binary is optimized with oneAPI Deep Neural Network Library (oneDNN)to use the following CPU instructions in performance-critical operations:  AVX AVX2\n",
      "To enable them in other operations, rebuild TensorFlow with the appropriate compiler flags.\n",
      "2021-07-25 19:21:10.655667: I tensorflow/core/grappler/devices.cc:78] Number of eligible GPUs (core count >= 8, compute capability >= 0.0): 0 (Note: TensorFlow was not compiled with CUDA or ROCm support)\n",
      "2021-07-25 19:21:10.656551: I tensorflow/core/grappler/clusters/single_machine.cc:356] Starting new session\n",
      "2021-07-25 19:21:10.775778: I tensorflow/core/grappler/optimizers/meta_optimizer.cc:816] Optimization results for grappler item: graph_to_optimize\n",
      "2021-07-25 19:21:10.776016: I tensorflow/core/grappler/optimizers/meta_optimizer.cc:818]   function_optimizer: Graph size after: 360 nodes (325), 343 edges (309), time = 24.457ms.\n",
      "2021-07-25 19:21:10.776260: I tensorflow/core/grappler/optimizers/meta_optimizer.cc:818]   function_optimizer: function_optimizer did nothing. time = 0.438ms.\n",
      "2021-07-25 19:21:11.646831: I tensorflow/core/grappler/optimizers/meta_optimizer.cc:816] Optimization results for grappler item: graph_to_optimize\n",
      "2021-07-25 19:21:11.647089: I tensorflow/core/grappler/optimizers/meta_optimizer.cc:818]   debug_stripper: debug_stripper did nothing. time = 0.21ms.\n",
      "2021-07-25 19:21:11.647355: I tensorflow/core/grappler/optimizers/meta_optimizer.cc:818]   model_pruner: Graph size after: 286 nodes (-48), 295 edges (-48), time = 3.817ms.\n",
      "2021-07-25 19:21:11.647657: I tensorflow/core/grappler/optimizers/meta_optimizer.cc:818]   constant_folding: Graph size after: 198 nodes (-88), 203 edges (-92), time = 23.535ms.\n",
      "2021-07-25 19:21:11.647921: I tensorflow/core/grappler/optimizers/meta_optimizer.cc:818]   arithmetic_optimizer: Graph size after: 198 nodes (0), 203 edges (0), time = 4.992ms.\n",
      "2021-07-25 19:21:11.648221: I tensorflow/core/grappler/optimizers/meta_optimizer.cc:818]   dependency_optimizer: Graph size after: 176 nodes (-22), 181 edges (-22), time = 1.907ms.\n",
      "2021-07-25 19:21:11.648469: I tensorflow/core/grappler/optimizers/meta_optimizer.cc:818]   model_pruner: Graph size after: 176 nodes (0), 181 edges (0), time = 0.731ms.\n",
      "2021-07-25 19:21:11.648691: I tensorflow/core/grappler/optimizers/meta_optimizer.cc:818]   constant_folding: Graph size after: 176 nodes (0), 181 edges (0), time = 3.854ms.\n",
      "2021-07-25 19:21:11.649004: I tensorflow/core/grappler/optimizers/meta_optimizer.cc:818]   arithmetic_optimizer: Graph size after: 176 nodes (0), 181 edges (0), time = 3.181ms.\n",
      "2021-07-25 19:21:11.649294: I tensorflow/core/grappler/optimizers/meta_optimizer.cc:818]   dependency_optimizer: Graph size after: 176 nodes (0), 181 edges (0), time = 1.219ms.\n",
      "2021-07-25 19:21:11.649547: I tensorflow/core/grappler/optimizers/meta_optimizer.cc:818]   debug_stripper: debug_stripper did nothing. time = 0.131ms.\n",
      "2021-07-25 19:21:11.649790: I tensorflow/core/grappler/optimizers/meta_optimizer.cc:818]   model_pruner: Graph size after: 176 nodes (0), 181 edges (0), time = 0.687ms.\n",
      "2021-07-25 19:21:11.650150: I tensorflow/core/grappler/optimizers/meta_optimizer.cc:818]   constant_folding: Graph size after: 176 nodes (0), 181 edges (0), time = 3.057ms.\n",
      "2021-07-25 19:21:11.650430: I tensorflow/core/grappler/optimizers/meta_optimizer.cc:818]   arithmetic_optimizer: Graph size after: 176 nodes (0), 181 edges (0), time = 3.068ms.\n",
      "2021-07-25 19:21:11.650717: I tensorflow/core/grappler/optimizers/meta_optimizer.cc:818]   dependency_optimizer: Graph size after: 176 nodes (0), 181 edges (0), time = 1.243ms.\n",
      "2021-07-25 19:21:11.650985: I tensorflow/core/grappler/optimizers/meta_optimizer.cc:818]   model_pruner: Graph size after: 176 nodes (0), 181 edges (0), time = 0.862ms.\n",
      "2021-07-25 19:21:11.651252: I tensorflow/core/grappler/optimizers/meta_optimizer.cc:818]   constant_folding: Graph size after: 176 nodes (0), 181 edges (0), time = 3.223ms.\n",
      "2021-07-25 19:21:11.651503: I tensorflow/core/grappler/optimizers/meta_optimizer.cc:818]   arithmetic_optimizer: Graph size after: 176 nodes (0), 181 edges (0), time = 3.065ms.\n",
      "2021-07-25 19:21:11.651751: I tensorflow/core/grappler/optimizers/meta_optimizer.cc:818]   dependency_optimizer: Graph size after: 176 nodes (0), 181 edges (0), time = 1.261ms.\n",
      "2021-07-25 19:21:12.193453: I tensorflow/core/grappler/optimizers/meta_optimizer.cc:816] Optimization results for grappler item: graph_to_optimize\n",
      "2021-07-25 19:21:12.193686: I tensorflow/core/grappler/optimizers/meta_optimizer.cc:818]   remapper: Graph size after: 176 nodes (0), 181 edges (0), time = 2.243ms.\n",
      "2021-07-25 19:21:12.193979: I tensorflow/core/grappler/optimizers/meta_optimizer.cc:818]   constant_folding: Graph size after: 176 nodes (0), 181 edges (0), time = 3.923ms.\n",
      "2021-07-25 19:21:12.194254: I tensorflow/core/grappler/optimizers/meta_optimizer.cc:818]   arithmetic_optimizer: Graph size after: 176 nodes (0), 181 edges (0), time = 3.009ms.\n",
      "2021-07-25 19:21:12.194561: I tensorflow/core/grappler/optimizers/meta_optimizer.cc:818]   dependency_optimizer: Graph size after: 176 nodes (0), 181 edges (0), time = 1.259ms.\n",
      "2021-07-25 19:21:12.194842: I tensorflow/core/grappler/optimizers/meta_optimizer.cc:818]   remapper: Graph size after: 176 nodes (0), 181 edges (0), time = 0.521ms.\n",
      "2021-07-25 19:21:12.195088: I tensorflow/core/grappler/optimizers/meta_optimizer.cc:818]   constant_folding: Graph size after: 176 nodes (0), 181 edges (0), time = 3.134ms.\n",
      "2021-07-25 19:21:12.195375: I tensorflow/core/grappler/optimizers/meta_optimizer.cc:818]   arithmetic_optimizer: Graph size after: 176 nodes (0), 181 edges (0), time = 3.277ms.\n",
      "2021-07-25 19:21:12.195649: I tensorflow/core/grappler/optimizers/meta_optimizer.cc:818]   dependency_optimizer: Graph size after: 176 nodes (0), 181 edges (0), time = 1.258ms.\n"
     ]
    }
   ],
   "metadata": {}
  },
  {
   "cell_type": "code",
   "execution_count": null,
   "source": [],
   "outputs": [],
   "metadata": {}
  }
 ]
}