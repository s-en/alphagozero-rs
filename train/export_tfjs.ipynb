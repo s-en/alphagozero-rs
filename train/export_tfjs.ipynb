{
 "cells": [
  {
   "cell_type": "code",
   "execution_count": 7,
   "metadata": {},
   "outputs": [],
   "source": [
    "import torch\n",
    "from onnx_tf.backend import prepare\n",
    "import onnx\n",
    "import tensorflow as tf"
   ]
  },
  {
   "cell_type": "code",
   "execution_count": 8,
   "metadata": {},
   "outputs": [
    {
     "name": "stdout",
     "output_type": "stream",
     "text": [
      "RecursiveScriptModule(\n",
      "  original_name=DualNet\n",
      "  (conv1): RecursiveScriptModule(original_name=Conv2d)\n",
      "  (bn1): RecursiveScriptModule(original_name=BatchNorm2d)\n",
      "  (relu): RecursiveScriptModule(original_name=ReLU)\n",
      "  (layers): RecursiveScriptModule(\n",
      "    original_name=Sequential\n",
      "    (0): RecursiveScriptModule(\n",
      "      original_name=BasicBlock\n",
      "      (conv1): RecursiveScriptModule(original_name=Conv2d)\n",
      "      (bn1): RecursiveScriptModule(original_name=BatchNorm2d)\n",
      "      (relu): RecursiveScriptModule(original_name=ReLU)\n",
      "      (conv2): RecursiveScriptModule(original_name=Conv2d)\n",
      "      (bn2): RecursiveScriptModule(original_name=BatchNorm2d)\n",
      "      (downsample): RecursiveScriptModule(original_name=Sequential)\n",
      "    )\n",
      "    (1): RecursiveScriptModule(\n",
      "      original_name=BasicBlock\n",
      "      (conv1): RecursiveScriptModule(original_name=Conv2d)\n",
      "      (bn1): RecursiveScriptModule(original_name=BatchNorm2d)\n",
      "      (relu): RecursiveScriptModule(original_name=ReLU)\n",
      "      (conv2): RecursiveScriptModule(original_name=Conv2d)\n",
      "      (bn2): RecursiveScriptModule(original_name=BatchNorm2d)\n",
      "      (downsample): RecursiveScriptModule(original_name=Sequential)\n",
      "    )\n",
      "    (2): RecursiveScriptModule(\n",
      "      original_name=BasicBlock\n",
      "      (conv1): RecursiveScriptModule(original_name=Conv2d)\n",
      "      (bn1): RecursiveScriptModule(original_name=BatchNorm2d)\n",
      "      (relu): RecursiveScriptModule(original_name=ReLU)\n",
      "      (conv2): RecursiveScriptModule(original_name=Conv2d)\n",
      "      (bn2): RecursiveScriptModule(original_name=BatchNorm2d)\n",
      "      (downsample): RecursiveScriptModule(original_name=Sequential)\n",
      "    )\n",
      "    (3): RecursiveScriptModule(\n",
      "      original_name=BasicBlock\n",
      "      (conv1): RecursiveScriptModule(original_name=Conv2d)\n",
      "      (bn1): RecursiveScriptModule(original_name=BatchNorm2d)\n",
      "      (relu): RecursiveScriptModule(original_name=ReLU)\n",
      "      (conv2): RecursiveScriptModule(original_name=Conv2d)\n",
      "      (bn2): RecursiveScriptModule(original_name=BatchNorm2d)\n",
      "      (downsample): RecursiveScriptModule(original_name=Sequential)\n",
      "    )\n",
      "    (4): RecursiveScriptModule(\n",
      "      original_name=BasicBlock\n",
      "      (conv1): RecursiveScriptModule(original_name=Conv2d)\n",
      "      (bn1): RecursiveScriptModule(original_name=BatchNorm2d)\n",
      "      (relu): RecursiveScriptModule(original_name=ReLU)\n",
      "      (conv2): RecursiveScriptModule(original_name=Conv2d)\n",
      "      (bn2): RecursiveScriptModule(original_name=BatchNorm2d)\n",
      "      (downsample): RecursiveScriptModule(original_name=Sequential)\n",
      "    )\n",
      "    (5): RecursiveScriptModule(\n",
      "      original_name=BasicBlock\n",
      "      (conv1): RecursiveScriptModule(original_name=Conv2d)\n",
      "      (bn1): RecursiveScriptModule(original_name=BatchNorm2d)\n",
      "      (relu): RecursiveScriptModule(original_name=ReLU)\n",
      "      (conv2): RecursiveScriptModule(original_name=Conv2d)\n",
      "      (bn2): RecursiveScriptModule(original_name=BatchNorm2d)\n",
      "      (downsample): RecursiveScriptModule(original_name=Sequential)\n",
      "    )\n",
      "    (6): RecursiveScriptModule(\n",
      "      original_name=BasicBlock\n",
      "      (conv1): RecursiveScriptModule(original_name=Conv2d)\n",
      "      (bn1): RecursiveScriptModule(original_name=BatchNorm2d)\n",
      "      (relu): RecursiveScriptModule(original_name=ReLU)\n",
      "      (conv2): RecursiveScriptModule(original_name=Conv2d)\n",
      "      (bn2): RecursiveScriptModule(original_name=BatchNorm2d)\n",
      "      (downsample): RecursiveScriptModule(original_name=Sequential)\n",
      "    )\n",
      "    (7): RecursiveScriptModule(\n",
      "      original_name=BasicBlock\n",
      "      (conv1): RecursiveScriptModule(original_name=Conv2d)\n",
      "      (bn1): RecursiveScriptModule(original_name=BatchNorm2d)\n",
      "      (relu): RecursiveScriptModule(original_name=ReLU)\n",
      "      (conv2): RecursiveScriptModule(original_name=Conv2d)\n",
      "      (bn2): RecursiveScriptModule(original_name=BatchNorm2d)\n",
      "      (downsample): RecursiveScriptModule(original_name=Sequential)\n",
      "    )\n",
      "  )\n",
      "  (pi): RecursiveScriptModule(\n",
      "    original_name=Sequential\n",
      "    (0): RecursiveScriptModule(original_name=Conv2d)\n",
      "    (1): RecursiveScriptModule(original_name=BatchNorm2d)\n",
      "    (2): RecursiveScriptModule(original_name=ReLU)\n",
      "    (3): RecursiveScriptModule(original_name=Flatten)\n",
      "    (4): RecursiveScriptModule(original_name=Linear)\n",
      "    (5): RecursiveScriptModule(original_name=LogSoftmax)\n",
      "  )\n",
      "  (v): RecursiveScriptModule(\n",
      "    original_name=Sequential\n",
      "    (0): RecursiveScriptModule(original_name=Conv2d)\n",
      "    (1): RecursiveScriptModule(original_name=BatchNorm2d)\n",
      "    (2): RecursiveScriptModule(original_name=ReLU)\n",
      "    (3): RecursiveScriptModule(original_name=Flatten)\n",
      "    (4): RecursiveScriptModule(original_name=Linear)\n",
      "    (5): RecursiveScriptModule(original_name=ReLU)\n",
      "    (6): RecursiveScriptModule(original_name=Linear)\n",
      "  )\n",
      ")\n"
     ]
    }
   ],
   "source": [
    "loaded = torch.jit.load('temp/best.pt')\n",
    "print(loaded)"
   ]
  },
  {
   "cell_type": "code",
   "execution_count": 9,
   "metadata": {},
   "outputs": [
    {
     "name": "stdout",
     "output_type": "stream",
     "text": [
      "graph(%x.1 : Float(16, 12, 5, 5, strides=[300, 25, 5, 1], requires_grad=0, device=cpu),\n",
      "      %pi.4.bias : Float(26, strides=[1], requires_grad=0, device=cuda:0),\n",
      "      %pi.4.weight : Float(26, 800, strides=[800, 1], requires_grad=0, device=cuda:0),\n",
      "      %v.4.bias : Float(32, strides=[1], requires_grad=0, device=cuda:0),\n",
      "      %v.4.weight : Float(32, 75, strides=[75, 1], requires_grad=0, device=cuda:0),\n",
      "      %v.6.bias : Float(1, strides=[1], requires_grad=0, device=cuda:0),\n",
      "      %v.6.weight : Float(1, 32, strides=[32, 1], requires_grad=0, device=cuda:0),\n",
      "      %180 : Float(32, 12, 3, 3, strides=[108, 9, 3, 1], requires_grad=0, device=cuda:0),\n",
      "      %181 : Float(32, strides=[1], requires_grad=0, device=cuda:0),\n",
      "      %183 : Float(32, 32, 3, 3, strides=[288, 9, 3, 1], requires_grad=0, device=cuda:0),\n",
      "      %184 : Float(32, strides=[1], requires_grad=0, device=cuda:0),\n",
      "      %186 : Float(32, 32, 3, 3, strides=[288, 9, 3, 1], requires_grad=0, device=cuda:0),\n",
      "      %187 : Float(32, strides=[1], requires_grad=0, device=cuda:0),\n",
      "      %189 : Float(32, 32, 3, 3, strides=[288, 9, 3, 1], requires_grad=0, device=cuda:0),\n",
      "      %190 : Float(32, strides=[1], requires_grad=0, device=cuda:0),\n",
      "      %192 : Float(32, 32, 3, 3, strides=[288, 9, 3, 1], requires_grad=0, device=cuda:0),\n",
      "      %193 : Float(32, strides=[1], requires_grad=0, device=cuda:0),\n",
      "      %195 : Float(32, 32, 3, 3, strides=[288, 9, 3, 1], requires_grad=0, device=cuda:0),\n",
      "      %196 : Float(32, strides=[1], requires_grad=0, device=cuda:0),\n",
      "      %198 : Float(32, 32, 3, 3, strides=[288, 9, 3, 1], requires_grad=0, device=cuda:0),\n",
      "      %199 : Float(32, strides=[1], requires_grad=0, device=cuda:0),\n",
      "      %201 : Float(32, 32, 3, 3, strides=[288, 9, 3, 1], requires_grad=0, device=cuda:0),\n",
      "      %202 : Float(32, strides=[1], requires_grad=0, device=cuda:0),\n",
      "      %204 : Float(32, 32, 3, 3, strides=[288, 9, 3, 1], requires_grad=0, device=cuda:0),\n",
      "      %205 : Float(32, strides=[1], requires_grad=0, device=cuda:0),\n",
      "      %207 : Float(32, 32, 3, 3, strides=[288, 9, 3, 1], requires_grad=0, device=cuda:0),\n",
      "      %208 : Float(32, strides=[1], requires_grad=0, device=cuda:0),\n",
      "      %210 : Float(32, 32, 3, 3, strides=[288, 9, 3, 1], requires_grad=0, device=cuda:0),\n",
      "      %211 : Float(32, strides=[1], requires_grad=0, device=cuda:0),\n",
      "      %213 : Float(32, 32, 3, 3, strides=[288, 9, 3, 1], requires_grad=0, device=cuda:0),\n",
      "      %214 : Float(32, strides=[1], requires_grad=0, device=cuda:0),\n",
      "      %216 : Float(32, 32, 3, 3, strides=[288, 9, 3, 1], requires_grad=0, device=cuda:0),\n",
      "      %217 : Float(32, strides=[1], requires_grad=0, device=cuda:0),\n",
      "      %219 : Float(32, 32, 3, 3, strides=[288, 9, 3, 1], requires_grad=0, device=cuda:0),\n",
      "      %220 : Float(32, strides=[1], requires_grad=0, device=cuda:0),\n",
      "      %222 : Float(32, 32, 3, 3, strides=[288, 9, 3, 1], requires_grad=0, device=cuda:0),\n",
      "      %223 : Float(32, strides=[1], requires_grad=0, device=cuda:0),\n",
      "      %225 : Float(32, 32, 3, 3, strides=[288, 9, 3, 1], requires_grad=0, device=cuda:0),\n",
      "      %226 : Float(32, strides=[1], requires_grad=0, device=cuda:0),\n",
      "      %228 : Float(32, 32, 3, 3, strides=[288, 9, 3, 1], requires_grad=0, device=cuda:0),\n",
      "      %229 : Float(32, strides=[1], requires_grad=0, device=cuda:0),\n",
      "      %231 : Float(32, 32, 1, 1, strides=[32, 1, 1, 1], requires_grad=0, device=cuda:0),\n",
      "      %232 : Float(32, strides=[1], requires_grad=0, device=cuda:0),\n",
      "      %234 : Float(3, 32, 1, 1, strides=[32, 1, 1, 1], requires_grad=0, device=cuda:0),\n",
      "      %235 : Float(3, strides=[1], requires_grad=0, device=cuda:0)):\n",
      "  %102 : Long(4, strides=[1], device=cpu) = onnx::Constant[value= -1  12   5   5 [ CPULongType{4} ]]()\n",
      "  %103 : Float(16, 12, 5, 5, strides=[300, 25, 5, 1], device=cpu) = onnx::Reshape(%x.1, %102) # dualnet.py:77:0\n",
      "  %179 : Float(16, 32, 5, 5, strides=[800, 25, 5, 1], device=cpu) = onnx::Conv[dilations=[1, 1], group=1, kernel_shape=[3, 3], pads=[1, 1, 1, 1], strides=[1, 1]](%103, %180, %181)\n",
      "  %106 : Float(16, 32, 5, 5, strides=[800, 25, 5, 1], device=cpu) = onnx::Relu(%179) # C:\\Users\\sen\\anaconda3\\envs\\py38\\lib\\site-packages\\torch\\nn\\functional.py:1296:0\n",
      "  %182 : Float(16, 32, 5, 5, strides=[800, 25, 5, 1], device=cpu) = onnx::Conv[dilations=[1, 1], group=1, kernel_shape=[3, 3], pads=[1, 1, 1, 1], strides=[1, 1]](%106, %183, %184)\n",
      "  %109 : Float(16, 32, 5, 5, strides=[800, 25, 5, 1], device=cpu) = onnx::Relu(%182) # C:\\Users\\sen\\anaconda3\\envs\\py38\\lib\\site-packages\\torch\\nn\\functional.py:1296:0\n",
      "  %185 : Float(16, 32, 5, 5, strides=[800, 25, 5, 1], device=cpu) = onnx::Conv[dilations=[1, 1], group=1, kernel_shape=[3, 3], pads=[1, 1, 1, 1], strides=[1, 1]](%109, %186, %187)\n",
      "  %112 : Float(16, 32, 5, 5, strides=[800, 25, 5, 1], device=cpu) = onnx::Add(%185, %106) # dualnet.py:33:0\n",
      "  %113 : Float(16, 32, 5, 5, strides=[800, 25, 5, 1], device=cpu) = onnx::Relu(%112) # C:\\Users\\sen\\anaconda3\\envs\\py38\\lib\\site-packages\\torch\\nn\\functional.py:1296:0\n",
      "  %188 : Float(16, 32, 5, 5, strides=[800, 25, 5, 1], device=cpu) = onnx::Conv[dilations=[1, 1], group=1, kernel_shape=[3, 3], pads=[1, 1, 1, 1], strides=[1, 1]](%113, %189, %190)\n",
      "  %116 : Float(16, 32, 5, 5, strides=[800, 25, 5, 1], device=cpu) = onnx::Relu(%188) # C:\\Users\\sen\\anaconda3\\envs\\py38\\lib\\site-packages\\torch\\nn\\functional.py:1296:0\n",
      "  %191 : Float(16, 32, 5, 5, strides=[800, 25, 5, 1], device=cpu) = onnx::Conv[dilations=[1, 1], group=1, kernel_shape=[3, 3], pads=[1, 1, 1, 1], strides=[1, 1]](%116, %192, %193)\n",
      "  %119 : Float(16, 32, 5, 5, strides=[800, 25, 5, 1], device=cpu) = onnx::Add(%191, %113) # dualnet.py:33:0\n",
      "  %120 : Float(16, 32, 5, 5, strides=[800, 25, 5, 1], device=cpu) = onnx::Relu(%119) # C:\\Users\\sen\\anaconda3\\envs\\py38\\lib\\site-packages\\torch\\nn\\functional.py:1296:0\n",
      "  %194 : Float(16, 32, 5, 5, strides=[800, 25, 5, 1], device=cpu) = onnx::Conv[dilations=[1, 1], group=1, kernel_shape=[3, 3], pads=[1, 1, 1, 1], strides=[1, 1]](%120, %195, %196)\n",
      "  %123 : Float(16, 32, 5, 5, strides=[800, 25, 5, 1], device=cpu) = onnx::Relu(%194) # C:\\Users\\sen\\anaconda3\\envs\\py38\\lib\\site-packages\\torch\\nn\\functional.py:1296:0\n",
      "  %197 : Float(16, 32, 5, 5, strides=[800, 25, 5, 1], device=cpu) = onnx::Conv[dilations=[1, 1], group=1, kernel_shape=[3, 3], pads=[1, 1, 1, 1], strides=[1, 1]](%123, %198, %199)\n",
      "  %126 : Float(16, 32, 5, 5, strides=[800, 25, 5, 1], device=cpu) = onnx::Add(%197, %120) # dualnet.py:33:0\n",
      "  %127 : Float(16, 32, 5, 5, strides=[800, 25, 5, 1], device=cpu) = onnx::Relu(%126) # C:\\Users\\sen\\anaconda3\\envs\\py38\\lib\\site-packages\\torch\\nn\\functional.py:1296:0\n",
      "  %200 : Float(16, 32, 5, 5, strides=[800, 25, 5, 1], device=cpu) = onnx::Conv[dilations=[1, 1], group=1, kernel_shape=[3, 3], pads=[1, 1, 1, 1], strides=[1, 1]](%127, %201, %202)\n",
      "  %130 : Float(16, 32, 5, 5, strides=[800, 25, 5, 1], device=cpu) = onnx::Relu(%200) # C:\\Users\\sen\\anaconda3\\envs\\py38\\lib\\site-packages\\torch\\nn\\functional.py:1296:0\n",
      "  %203 : Float(16, 32, 5, 5, strides=[800, 25, 5, 1], device=cpu) = onnx::Conv[dilations=[1, 1], group=1, kernel_shape=[3, 3], pads=[1, 1, 1, 1], strides=[1, 1]](%130, %204, %205)\n",
      "  %133 : Float(16, 32, 5, 5, strides=[800, 25, 5, 1], device=cpu) = onnx::Add(%203, %127) # dualnet.py:33:0\n",
      "  %134 : Float(16, 32, 5, 5, strides=[800, 25, 5, 1], device=cpu) = onnx::Relu(%133) # C:\\Users\\sen\\anaconda3\\envs\\py38\\lib\\site-packages\\torch\\nn\\functional.py:1296:0\n",
      "  %206 : Float(16, 32, 5, 5, strides=[800, 25, 5, 1], device=cpu) = onnx::Conv[dilations=[1, 1], group=1, kernel_shape=[3, 3], pads=[1, 1, 1, 1], strides=[1, 1]](%134, %207, %208)\n",
      "  %137 : Float(16, 32, 5, 5, strides=[800, 25, 5, 1], device=cpu) = onnx::Relu(%206) # C:\\Users\\sen\\anaconda3\\envs\\py38\\lib\\site-packages\\torch\\nn\\functional.py:1296:0\n",
      "  %209 : Float(16, 32, 5, 5, strides=[800, 25, 5, 1], device=cpu) = onnx::Conv[dilations=[1, 1], group=1, kernel_shape=[3, 3], pads=[1, 1, 1, 1], strides=[1, 1]](%137, %210, %211)\n",
      "  %140 : Float(16, 32, 5, 5, strides=[800, 25, 5, 1], device=cpu) = onnx::Add(%209, %134) # dualnet.py:33:0\n",
      "  %141 : Float(16, 32, 5, 5, strides=[800, 25, 5, 1], device=cpu) = onnx::Relu(%140) # C:\\Users\\sen\\anaconda3\\envs\\py38\\lib\\site-packages\\torch\\nn\\functional.py:1296:0\n",
      "  %212 : Float(16, 32, 5, 5, strides=[800, 25, 5, 1], device=cpu) = onnx::Conv[dilations=[1, 1], group=1, kernel_shape=[3, 3], pads=[1, 1, 1, 1], strides=[1, 1]](%141, %213, %214)\n",
      "  %144 : Float(16, 32, 5, 5, strides=[800, 25, 5, 1], device=cpu) = onnx::Relu(%212) # C:\\Users\\sen\\anaconda3\\envs\\py38\\lib\\site-packages\\torch\\nn\\functional.py:1296:0\n",
      "  %215 : Float(16, 32, 5, 5, strides=[800, 25, 5, 1], device=cpu) = onnx::Conv[dilations=[1, 1], group=1, kernel_shape=[3, 3], pads=[1, 1, 1, 1], strides=[1, 1]](%144, %216, %217)\n",
      "  %147 : Float(16, 32, 5, 5, strides=[800, 25, 5, 1], device=cpu) = onnx::Add(%215, %141) # dualnet.py:33:0\n",
      "  %148 : Float(16, 32, 5, 5, strides=[800, 25, 5, 1], device=cpu) = onnx::Relu(%147) # C:\\Users\\sen\\anaconda3\\envs\\py38\\lib\\site-packages\\torch\\nn\\functional.py:1296:0\n",
      "  %218 : Float(16, 32, 5, 5, strides=[800, 25, 5, 1], device=cpu) = onnx::Conv[dilations=[1, 1], group=1, kernel_shape=[3, 3], pads=[1, 1, 1, 1], strides=[1, 1]](%148, %219, %220)\n",
      "  %151 : Float(16, 32, 5, 5, strides=[800, 25, 5, 1], device=cpu) = onnx::Relu(%218) # C:\\Users\\sen\\anaconda3\\envs\\py38\\lib\\site-packages\\torch\\nn\\functional.py:1296:0\n",
      "  %221 : Float(16, 32, 5, 5, strides=[800, 25, 5, 1], device=cpu) = onnx::Conv[dilations=[1, 1], group=1, kernel_shape=[3, 3], pads=[1, 1, 1, 1], strides=[1, 1]](%151, %222, %223)\n",
      "  %154 : Float(16, 32, 5, 5, strides=[800, 25, 5, 1], device=cpu) = onnx::Add(%221, %148) # dualnet.py:33:0\n",
      "  %155 : Float(16, 32, 5, 5, strides=[800, 25, 5, 1], device=cpu) = onnx::Relu(%154) # C:\\Users\\sen\\anaconda3\\envs\\py38\\lib\\site-packages\\torch\\nn\\functional.py:1296:0\n",
      "  %224 : Float(16, 32, 5, 5, strides=[800, 25, 5, 1], device=cpu) = onnx::Conv[dilations=[1, 1], group=1, kernel_shape=[3, 3], pads=[1, 1, 1, 1], strides=[1, 1]](%155, %225, %226)\n",
      "  %158 : Float(16, 32, 5, 5, strides=[800, 25, 5, 1], device=cpu) = onnx::Relu(%224) # C:\\Users\\sen\\anaconda3\\envs\\py38\\lib\\site-packages\\torch\\nn\\functional.py:1296:0\n",
      "  %227 : Float(16, 32, 5, 5, strides=[800, 25, 5, 1], device=cpu) = onnx::Conv[dilations=[1, 1], group=1, kernel_shape=[3, 3], pads=[1, 1, 1, 1], strides=[1, 1]](%158, %228, %229)\n",
      "  %161 : Float(16, 32, 5, 5, strides=[800, 25, 5, 1], device=cpu) = onnx::Add(%227, %155) # dualnet.py:33:0\n",
      "  %162 : Float(16, 32, 5, 5, strides=[800, 25, 5, 1], device=cpu) = onnx::Relu(%161) # C:\\Users\\sen\\anaconda3\\envs\\py38\\lib\\site-packages\\torch\\nn\\functional.py:1296:0\n",
      "  %230 : Float(16, 32, 5, 5, strides=[800, 25, 5, 1], device=cpu) = onnx::Conv[dilations=[1, 1], group=1, kernel_shape=[1, 1], pads=[0, 0, 0, 0], strides=[1, 1]](%162, %231, %232)\n",
      "  %165 : Float(16, 32, 5, 5, strides=[800, 25, 5, 1], device=cpu) = onnx::Relu(%230) # C:\\Users\\sen\\anaconda3\\envs\\py38\\lib\\site-packages\\torch\\nn\\functional.py:1296:0\n",
      "  %166 : Float(16, 800, strides=[800, 1], device=cpu) = onnx::Flatten[axis=1](%165) # C:\\Users\\sen\\anaconda3\\envs\\py38\\lib\\site-packages\\torch\\nn\\modules\\flatten.py:40:0\n",
      "  %167 : Float(16, 26, strides=[26, 1], device=cpu) = onnx::Gemm[alpha=1., beta=1., transB=1](%166, %pi.4.weight, %pi.4.bias) # C:\\Users\\sen\\anaconda3\\envs\\py38\\lib\\site-packages\\torch\\nn\\functional.py:1847:0\n",
      "  %168 : Float(16, 26, strides=[26, 1], device=cpu) = onnx::LogSoftmax[axis=1](%167) # C:\\Users\\sen\\anaconda3\\envs\\py38\\lib\\site-packages\\torch\\nn\\functional.py:1768:0\n",
      "  %169 : Float(16, 26, strides=[26, 1], device=cpu) = onnx::Exp(%168) # dualnet.py:82:0\n",
      "  %233 : Float(16, 3, 5, 5, strides=[75, 25, 5, 1], device=cpu) = onnx::Conv[dilations=[1, 1], group=1, kernel_shape=[1, 1], pads=[0, 0, 0, 0], strides=[1, 1]](%162, %234, %235)\n",
      "  %172 : Float(16, 3, 5, 5, strides=[75, 25, 5, 1], device=cpu) = onnx::Relu(%233) # C:\\Users\\sen\\anaconda3\\envs\\py38\\lib\\site-packages\\torch\\nn\\functional.py:1296:0\n",
      "  %173 : Float(16, 75, strides=[75, 1], device=cpu) = onnx::Flatten[axis=1](%172) # C:\\Users\\sen\\anaconda3\\envs\\py38\\lib\\site-packages\\torch\\nn\\modules\\flatten.py:40:0\n",
      "  %174 : Float(16, 32, strides=[32, 1], device=cpu) = onnx::Gemm[alpha=1., beta=1., transB=1](%173, %v.4.weight, %v.4.bias) # C:\\Users\\sen\\anaconda3\\envs\\py38\\lib\\site-packages\\torch\\nn\\functional.py:1847:0\n",
      "  %175 : Float(16, 32, strides=[32, 1], device=cpu) = onnx::Relu(%174) # C:\\Users\\sen\\anaconda3\\envs\\py38\\lib\\site-packages\\torch\\nn\\functional.py:1296:0\n",
      "  %176 : Float(16, 1, strides=[1, 1], device=cpu) = onnx::Gemm[alpha=1., beta=1., transB=1](%175, %v.6.weight, %v.6.bias) # C:\\Users\\sen\\anaconda3\\envs\\py38\\lib\\site-packages\\torch\\nn\\functional.py:1847:0\n",
      "  %177 : Float(16, 1, strides=[1, 1], device=cpu) = onnx::Tanh(%176) # dualnet.py:83:0\n",
      "  %178 : Float(16, 27, strides=[27, 1], requires_grad=0, device=cpu) = onnx::Concat[axis=1](%169, %177) # dualnet.py:84:0\n",
      "  return (%178)\n",
      "\n"
     ]
    }
   ],
   "source": [
    "loaded.eval()\n",
    "dummy_input = torch.randn((16, 12, 5, 5))\n",
    "torch.onnx.export(loaded, dummy_input, \"dualnet.onnx\", example_outputs=torch.rand((16, 27)), verbose=True)"
   ]
  },
  {
   "cell_type": "code",
   "execution_count": 10,
   "metadata": {},
   "outputs": [
    {
     "name": "stdout",
     "output_type": "stream",
     "text": [
      "INFO:tensorflow:Assets written to: model.pb\\assets\n"
     ]
    }
   ],
   "source": [
    "tf.autograph.experimental.do_not_convert\n",
    "onnx_model = onnx.load('dualnet.onnx')\n",
    "\n",
    "tf_rep = prepare(onnx_model, device='cpu')\n",
    "tf_rep.export_graph('model.pb')"
   ]
  },
  {
   "cell_type": "code",
   "execution_count": 11,
   "metadata": {},
   "outputs": [
    {
     "name": "stdout",
     "output_type": "stream",
     "text": [
      "<ConcreteFunction signature_wrapper(x.1) at 0x2A0A358A070>\n"
     ]
    }
   ],
   "source": [
    "new_model = tf.saved_model.load('model.pb')\n",
    "f = new_model.signatures[\"serving_default\"]\n",
    "print(f)"
   ]
  },
  {
   "cell_type": "code",
   "execution_count": 12,
   "metadata": {},
   "outputs": [
    {
     "name": "stderr",
     "output_type": "stream",
     "text": [
      "�w�肳�ꂽ�p�X��������܂���B\n"
     ]
    },
    {
     "name": "stdout",
     "output_type": "stream",
     "text": [
      "Writing weight file js_model\\model.json...\n",
      "weight PartitionedCall/onnx_tf_prefix_Constant_0 with shape (4,) and dtype int64 was auto converted to the type int32\n",
      "weight PartitionedCall/Where with shape (0, 1) and dtype int64 was auto converted to the type int32\n",
      "weight PartitionedCall/Cast with shape (1,) and dtype int64 was auto converted to the type int32\n",
      "weight PartitionedCall/GatherV2 with shape (0,) and dtype int64 was auto converted to the type int32\n",
      "weight PartitionedCall/zeros with shape () and dtype int64 was auto converted to the type int32\n"
     ]
    },
    {
     "name": "stderr",
     "output_type": "stream",
     "text": [
      "2021-10-12 20:06:43.198156: I tensorflow/core/platform/cpu_feature_guard.cc:142] This TensorFlow binary is optimized with oneAPI Deep Neural Network Library (oneDNN)to use the following CPU instructions in performance-critical operations:  AVX AVX2\n",
      "To enable them in other operations, rebuild TensorFlow with the appropriate compiler flags.\n",
      "2021-10-12 20:06:43.793963: I tensorflow/core/grappler/devices.cc:78] Number of eligible GPUs (core count >= 8, compute capability >= 0.0): 0 (Note: TensorFlow was not compiled with CUDA or ROCm support)\n",
      "2021-10-12 20:06:43.794611: I tensorflow/core/grappler/clusters/single_machine.cc:356] Starting new session\n",
      "2021-10-12 20:06:43.925632: I tensorflow/core/grappler/optimizers/meta_optimizer.cc:816] Optimization results for grappler item: graph_to_optimize\n",
      "2021-10-12 20:06:43.925795: I tensorflow/core/grappler/optimizers/meta_optimizer.cc:818]   function_optimizer: Graph size after: 483 nodes (436), 457 edges (411), time = 20.361ms.\n",
      "2021-10-12 20:06:43.925991: I tensorflow/core/grappler/optimizers/meta_optimizer.cc:818]   function_optimizer: function_optimizer did nothing. time = 0.485ms.\n",
      "2021-10-12 20:06:45.076648: I tensorflow/core/grappler/optimizers/meta_optimizer.cc:816] Optimization results for grappler item: graph_to_optimize\n",
      "2021-10-12 20:06:45.076821: I tensorflow/core/grappler/optimizers/meta_optimizer.cc:818]   debug_stripper: debug_stripper did nothing. time = 0.257ms.\n",
      "2021-10-12 20:06:45.076978: I tensorflow/core/grappler/optimizers/meta_optimizer.cc:818]   model_pruner: Graph size after: 379 nodes (-66), 391 edges (-66), time = 3.901ms.\n",
      "2021-10-12 20:06:45.077152: I tensorflow/core/grappler/optimizers/meta_optimizer.cc:818]   constant_folding: Graph size after: 267 nodes (-112), 275 edges (-116), time = 26.377ms.\n",
      "2021-10-12 20:06:45.077345: I tensorflow/core/grappler/optimizers/meta_optimizer.cc:818]   arithmetic_optimizer: Graph size after: 267 nodes (0), 275 edges (0), time = 6.616ms.\n",
      "2021-10-12 20:06:45.077525: I tensorflow/core/grappler/optimizers/meta_optimizer.cc:818]   dependency_optimizer: Graph size after: 245 nodes (-22), 253 edges (-22), time = 2.315ms.\n",
      "2021-10-12 20:06:45.077709: I tensorflow/core/grappler/optimizers/meta_optimizer.cc:818]   model_pruner: Graph size after: 245 nodes (0), 253 edges (0), time = 1.027ms.\n",
      "2021-10-12 20:06:45.077891: I tensorflow/core/grappler/optimizers/meta_optimizer.cc:818]   constant_folding: Graph size after: 245 nodes (0), 253 edges (0), time = 4.131ms.\n",
      "2021-10-12 20:06:45.078057: I tensorflow/core/grappler/optimizers/meta_optimizer.cc:818]   arithmetic_optimizer: Graph size after: 245 nodes (0), 253 edges (0), time = 3.55ms.\n",
      "2021-10-12 20:06:45.078243: I tensorflow/core/grappler/optimizers/meta_optimizer.cc:818]   dependency_optimizer: Graph size after: 245 nodes (0), 253 edges (0), time = 1.633ms.\n",
      "2021-10-12 20:06:45.078431: I tensorflow/core/grappler/optimizers/meta_optimizer.cc:818]   debug_stripper: debug_stripper did nothing. time = 0.146ms.\n",
      "2021-10-12 20:06:45.078598: I tensorflow/core/grappler/optimizers/meta_optimizer.cc:818]   model_pruner: Graph size after: 245 nodes (0), 253 edges (0), time = 0.866ms.\n",
      "2021-10-12 20:06:45.078778: I tensorflow/core/grappler/optimizers/meta_optimizer.cc:818]   constant_folding: Graph size after: 245 nodes (0), 253 edges (0), time = 4.127ms.\n",
      "2021-10-12 20:06:45.078964: I tensorflow/core/grappler/optimizers/meta_optimizer.cc:818]   arithmetic_optimizer: Graph size after: 245 nodes (0), 253 edges (0), time = 4.045ms.\n",
      "2021-10-12 20:06:45.079153: I tensorflow/core/grappler/optimizers/meta_optimizer.cc:818]   dependency_optimizer: Graph size after: 245 nodes (0), 253 edges (0), time = 1.632ms.\n",
      "2021-10-12 20:06:45.079337: I tensorflow/core/grappler/optimizers/meta_optimizer.cc:818]   model_pruner: Graph size after: 245 nodes (0), 253 edges (0), time = 0.974ms.\n",
      "2021-10-12 20:06:45.079520: I tensorflow/core/grappler/optimizers/meta_optimizer.cc:818]   constant_folding: Graph size after: 245 nodes (0), 253 edges (0), time = 3.847ms.\n",
      "2021-10-12 20:06:45.079701: I tensorflow/core/grappler/optimizers/meta_optimizer.cc:818]   arithmetic_optimizer: Graph size after: 245 nodes (0), 253 edges (0), time = 4.103ms.\n",
      "2021-10-12 20:06:45.079905: I tensorflow/core/grappler/optimizers/meta_optimizer.cc:818]   dependency_optimizer: Graph size after: 245 nodes (0), 253 edges (0), time = 1.734ms.\n",
      "2021-10-12 20:06:45.751070: I tensorflow/core/grappler/optimizers/meta_optimizer.cc:816] Optimization results for grappler item: graph_to_optimize\n",
      "2021-10-12 20:06:45.751225: I tensorflow/core/grappler/optimizers/meta_optimizer.cc:818]   remapper: Graph size after: 245 nodes (0), 253 edges (0), time = 1.967ms.\n",
      "2021-10-12 20:06:45.751423: I tensorflow/core/grappler/optimizers/meta_optimizer.cc:818]   constant_folding: Graph size after: 245 nodes (0), 253 edges (0), time = 4.686ms.\n",
      "2021-10-12 20:06:45.751623: I tensorflow/core/grappler/optimizers/meta_optimizer.cc:818]   arithmetic_optimizer: Graph size after: 245 nodes (0), 253 edges (0), time = 3.637ms.\n",
      "2021-10-12 20:06:45.751818: I tensorflow/core/grappler/optimizers/meta_optimizer.cc:818]   dependency_optimizer: Graph size after: 245 nodes (0), 253 edges (0), time = 1.487ms.\n",
      "2021-10-12 20:06:45.751997: I tensorflow/core/grappler/optimizers/meta_optimizer.cc:818]   remapper: Graph size after: 245 nodes (0), 253 edges (0), time = 0.876ms.\n",
      "2021-10-12 20:06:45.752178: I tensorflow/core/grappler/optimizers/meta_optimizer.cc:818]   constant_folding: Graph size after: 245 nodes (0), 253 edges (0), time = 4.453ms.\n",
      "2021-10-12 20:06:45.752365: I tensorflow/core/grappler/optimizers/meta_optimizer.cc:818]   arithmetic_optimizer: Graph size after: 245 nodes (0), 253 edges (0), time = 3.995ms.\n",
      "2021-10-12 20:06:45.752548: I tensorflow/core/grappler/optimizers/meta_optimizer.cc:818]   dependency_optimizer: Graph size after: 245 nodes (0), 253 edges (0), time = 1.686ms.\n"
     ]
    }
   ],
   "source": [
    "!cd train\n",
    "!tensorflowjs_converter --input_format=tf_saved_model --output_node_names='output_0' model.pb js_model --quantize_uint8"
   ]
  },
  {
   "cell_type": "code",
   "execution_count": null,
   "metadata": {},
   "outputs": [],
   "source": []
  },
  {
   "cell_type": "code",
   "execution_count": null,
   "metadata": {},
   "outputs": [],
   "source": []
  }
 ],
 "metadata": {
  "interpreter": {
   "hash": "a9bf1f2e6bcf5a5ddc2db4e74af98a8bb6c9f182239da13cf8d6aee21f00f13f"
  },
  "kernelspec": {
   "display_name": "Python 3.8.5 64-bit ('py38': conda)",
   "name": "python3"
  },
  "language_info": {
   "codemirror_mode": {
    "name": "ipython",
    "version": 3
   },
   "file_extension": ".py",
   "mimetype": "text/x-python",
   "name": "python",
   "nbconvert_exporter": "python",
   "pygments_lexer": "ipython3",
   "version": "3.8.5"
  },
  "metadata": {
   "interpreter": {
    "hash": "a9bf1f2e6bcf5a5ddc2db4e74af98a8bb6c9f182239da13cf8d6aee21f00f13f"
   }
  },
  "orig_nbformat": 2
 },
 "nbformat": 4,
 "nbformat_minor": 2
}
