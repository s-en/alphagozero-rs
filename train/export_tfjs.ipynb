{
 "cells": [
  {
   "cell_type": "code",
   "execution_count": 29,
   "metadata": {},
   "outputs": [],
   "source": [
    "import torch\n",
    "#from onnx_tf.backend import prepare\n",
    "import onnx\n",
    "import tensorflow as tf"
   ]
  },
  {
   "cell_type": "code",
   "execution_count": 30,
   "metadata": {},
   "outputs": [],
   "source": [
    "# loaded = torch.jit.load('7x7/dualnet7x7_16conv.pt')\n",
    "# loaded = torch.jit.load('5x5/best.pt')\n",
    "# loaded = torch.jit.load('src/dualnet5x5_v2.pt')\n",
    "# loaded = torch.jit.load('src/dualnet5x5_se.pt')\n",
    "loaded = torch.jit.load('src/dualnet7x7_bn.pt')\n",
    "# print(loaded)"
   ]
  },
  {
   "cell_type": "code",
   "execution_count": 31,
   "metadata": {},
   "outputs": [
    {
     "name": "stdout",
     "output_type": "stream",
     "text": [
      "graph(%s.1 : Float(8, 12, 7, 7, strides=[588, 49, 7, 1], requires_grad=0, device=cuda:0),\n",
      "      %conv1.bias : Float(48, strides=[1], requires_grad=0, device=cuda:0),\n",
      "      %conv1.weight : Float(48, 12, 3, 3, strides=[108, 9, 3, 1], requires_grad=0, device=cuda:0),\n",
      "      %bn1.running_var : Float(48, strides=[1], requires_grad=0, device=cuda:0),\n",
      "      %bn1.running_mean : Float(48, strides=[1], requires_grad=0, device=cuda:0),\n",
      "      %bn1.bias : Float(48, strides=[1], requires_grad=0, device=cuda:0),\n",
      "      %bn1.weight : Float(48, strides=[1], requires_grad=0, device=cuda:0),\n",
      "      %conv2.bias : Float(48, strides=[1], requires_grad=0, device=cuda:0),\n",
      "      %conv2.weight : Float(48, 48, 3, 3, strides=[432, 9, 3, 1], requires_grad=0, device=cuda:0),\n",
      "      %bn2.running_var : Float(48, strides=[1], requires_grad=0, device=cuda:0),\n",
      "      %bn2.running_mean : Float(48, strides=[1], requires_grad=0, device=cuda:0),\n",
      "      %bn2.bias : Float(48, strides=[1], requires_grad=0, device=cuda:0),\n",
      "      %bn2.weight : Float(48, strides=[1], requires_grad=0, device=cuda:0),\n",
      "      %conv3.bias : Float(48, strides=[1], requires_grad=0, device=cuda:0),\n",
      "      %conv3.weight : Float(48, 48, 3, 3, strides=[432, 9, 3, 1], requires_grad=0, device=cuda:0),\n",
      "      %bn3.running_var : Float(48, strides=[1], requires_grad=0, device=cuda:0),\n",
      "      %bn3.running_mean : Float(48, strides=[1], requires_grad=0, device=cuda:0),\n",
      "      %bn3.bias : Float(48, strides=[1], requires_grad=0, device=cuda:0),\n",
      "      %bn3.weight : Float(48, strides=[1], requires_grad=0, device=cuda:0),\n",
      "      %conv4.bias : Float(48, strides=[1], requires_grad=0, device=cuda:0),\n",
      "      %conv4.weight : Float(48, 48, 3, 3, strides=[432, 9, 3, 1], requires_grad=0, device=cuda:0),\n",
      "      %bn4.running_var : Float(48, strides=[1], requires_grad=0, device=cuda:0),\n",
      "      %bn4.running_mean : Float(48, strides=[1], requires_grad=0, device=cuda:0),\n",
      "      %bn4.bias : Float(48, strides=[1], requires_grad=0, device=cuda:0),\n",
      "      %bn4.weight : Float(48, strides=[1], requires_grad=0, device=cuda:0),\n",
      "      %conv5.bias : Float(48, strides=[1], requires_grad=0, device=cuda:0),\n",
      "      %conv5.weight : Float(48, 48, 3, 3, strides=[432, 9, 3, 1], requires_grad=0, device=cuda:0),\n",
      "      %bn5.running_var : Float(48, strides=[1], requires_grad=0, device=cuda:0),\n",
      "      %bn5.running_mean : Float(48, strides=[1], requires_grad=0, device=cuda:0),\n",
      "      %bn5.bias : Float(48, strides=[1], requires_grad=0, device=cuda:0),\n",
      "      %bn5.weight : Float(48, strides=[1], requires_grad=0, device=cuda:0),\n",
      "      %conv6.bias : Float(48, strides=[1], requires_grad=0, device=cuda:0),\n",
      "      %conv6.weight : Float(48, 48, 3, 3, strides=[432, 9, 3, 1], requires_grad=0, device=cuda:0),\n",
      "      %bn6.running_var : Float(48, strides=[1], requires_grad=0, device=cuda:0),\n",
      "      %bn6.running_mean : Float(48, strides=[1], requires_grad=0, device=cuda:0),\n",
      "      %bn6.bias : Float(48, strides=[1], requires_grad=0, device=cuda:0),\n",
      "      %bn6.weight : Float(48, strides=[1], requires_grad=0, device=cuda:0),\n",
      "      %conv7.bias : Float(48, strides=[1], requires_grad=0, device=cuda:0),\n",
      "      %conv7.weight : Float(48, 48, 3, 3, strides=[432, 9, 3, 1], requires_grad=0, device=cuda:0),\n",
      "      %bn7.running_var : Float(48, strides=[1], requires_grad=0, device=cuda:0),\n",
      "      %bn7.running_mean : Float(48, strides=[1], requires_grad=0, device=cuda:0),\n",
      "      %bn7.bias : Float(48, strides=[1], requires_grad=0, device=cuda:0),\n",
      "      %bn7.weight : Float(48, strides=[1], requires_grad=0, device=cuda:0),\n",
      "      %conv8.bias : Float(48, strides=[1], requires_grad=0, device=cuda:0),\n",
      "      %conv8.weight : Float(48, 48, 3, 3, strides=[432, 9, 3, 1], requires_grad=0, device=cuda:0),\n",
      "      %bn8.running_var : Float(48, strides=[1], requires_grad=0, device=cuda:0),\n",
      "      %bn8.running_mean : Float(48, strides=[1], requires_grad=0, device=cuda:0),\n",
      "      %bn8.bias : Float(48, strides=[1], requires_grad=0, device=cuda:0),\n",
      "      %bn8.weight : Float(48, strides=[1], requires_grad=0, device=cuda:0),\n",
      "      %conv9.bias : Float(48, strides=[1], requires_grad=0, device=cuda:0),\n",
      "      %conv9.weight : Float(48, 48, 3, 3, strides=[432, 9, 3, 1], requires_grad=0, device=cuda:0),\n",
      "      %bn9.running_var : Float(48, strides=[1], requires_grad=0, device=cuda:0),\n",
      "      %bn9.running_mean : Float(48, strides=[1], requires_grad=0, device=cuda:0),\n",
      "      %bn9.bias : Float(48, strides=[1], requires_grad=0, device=cuda:0),\n",
      "      %bn9.weight : Float(48, strides=[1], requires_grad=0, device=cuda:0),\n",
      "      %conv10.bias : Float(48, strides=[1], requires_grad=0, device=cuda:0),\n",
      "      %conv10.weight : Float(48, 48, 3, 3, strides=[432, 9, 3, 1], requires_grad=0, device=cuda:0),\n",
      "      %bn10.running_var : Float(48, strides=[1], requires_grad=0, device=cuda:0),\n",
      "      %bn10.running_mean : Float(48, strides=[1], requires_grad=0, device=cuda:0),\n",
      "      %bn10.bias : Float(48, strides=[1], requires_grad=0, device=cuda:0),\n",
      "      %bn10.weight : Float(48, strides=[1], requires_grad=0, device=cuda:0),\n",
      "      %conv11.bias : Float(48, strides=[1], requires_grad=0, device=cuda:0),\n",
      "      %conv11.weight : Float(48, 48, 3, 3, strides=[432, 9, 3, 1], requires_grad=0, device=cuda:0),\n",
      "      %bn11.running_var : Float(48, strides=[1], requires_grad=0, device=cuda:0),\n",
      "      %bn11.running_mean : Float(48, strides=[1], requires_grad=0, device=cuda:0),\n",
      "      %bn11.bias : Float(48, strides=[1], requires_grad=0, device=cuda:0),\n",
      "      %bn11.weight : Float(48, strides=[1], requires_grad=0, device=cuda:0),\n",
      "      %conv12.bias : Float(48, strides=[1], requires_grad=0, device=cuda:0),\n",
      "      %conv12.weight : Float(48, 48, 3, 3, strides=[432, 9, 3, 1], requires_grad=0, device=cuda:0),\n",
      "      %bn12.running_var : Float(48, strides=[1], requires_grad=0, device=cuda:0),\n",
      "      %bn12.running_mean : Float(48, strides=[1], requires_grad=0, device=cuda:0),\n",
      "      %bn12.bias : Float(48, strides=[1], requires_grad=0, device=cuda:0),\n",
      "      %bn12.weight : Float(48, strides=[1], requires_grad=0, device=cuda:0),\n",
      "      %conv13.bias : Float(48, strides=[1], requires_grad=0, device=cuda:0),\n",
      "      %conv13.weight : Float(48, 48, 3, 3, strides=[432, 9, 3, 1], requires_grad=0, device=cuda:0),\n",
      "      %bn13.running_var : Float(48, strides=[1], requires_grad=0, device=cuda:0),\n",
      "      %bn13.running_mean : Float(48, strides=[1], requires_grad=0, device=cuda:0),\n",
      "      %bn13.bias : Float(48, strides=[1], requires_grad=0, device=cuda:0),\n",
      "      %bn13.weight : Float(48, strides=[1], requires_grad=0, device=cuda:0),\n",
      "      %conv14.bias : Float(48, strides=[1], requires_grad=0, device=cuda:0),\n",
      "      %conv14.weight : Float(48, 48, 3, 3, strides=[432, 9, 3, 1], requires_grad=0, device=cuda:0),\n",
      "      %bn14.running_var : Float(48, strides=[1], requires_grad=0, device=cuda:0),\n",
      "      %bn14.running_mean : Float(48, strides=[1], requires_grad=0, device=cuda:0),\n",
      "      %bn14.bias : Float(48, strides=[1], requires_grad=0, device=cuda:0),\n",
      "      %bn14.weight : Float(48, strides=[1], requires_grad=0, device=cuda:0),\n",
      "      %conv15.bias : Float(48, strides=[1], requires_grad=0, device=cuda:0),\n",
      "      %conv15.weight : Float(48, 48, 3, 3, strides=[432, 9, 3, 1], requires_grad=0, device=cuda:0),\n",
      "      %bn15.running_var : Float(48, strides=[1], requires_grad=0, device=cuda:0),\n",
      "      %bn15.running_mean : Float(48, strides=[1], requires_grad=0, device=cuda:0),\n",
      "      %bn15.bias : Float(48, strides=[1], requires_grad=0, device=cuda:0),\n",
      "      %bn15.weight : Float(48, strides=[1], requires_grad=0, device=cuda:0),\n",
      "      %conv16.bias : Float(48, strides=[1], requires_grad=0, device=cuda:0),\n",
      "      %conv16.weight : Float(48, 48, 3, 3, strides=[432, 9, 3, 1], requires_grad=0, device=cuda:0),\n",
      "      %bn16.running_var : Float(48, strides=[1], requires_grad=0, device=cuda:0),\n",
      "      %bn16.running_mean : Float(48, strides=[1], requires_grad=0, device=cuda:0),\n",
      "      %bn16.bias : Float(48, strides=[1], requires_grad=0, device=cuda:0),\n",
      "      %bn16.weight : Float(48, strides=[1], requires_grad=0, device=cuda:0),\n",
      "      %fc1.bias : Float(512, strides=[1], requires_grad=0, device=cuda:0),\n",
      "      %fc1.weight : Float(512, 432, strides=[432, 1], requires_grad=0, device=cuda:0),\n",
      "      %fc2.bias : Float(256, strides=[1], requires_grad=0, device=cuda:0),\n",
      "      %fc2.weight : Float(256, 512, strides=[512, 1], requires_grad=0, device=cuda:0),\n",
      "      %fc3.bias : Float(50, strides=[1], requires_grad=0, device=cuda:0),\n",
      "      %fc3.weight : Float(50, 256, strides=[256, 1], requires_grad=0, device=cuda:0),\n",
      "      %fc4.bias : Float(1, strides=[1], requires_grad=0, device=cuda:0),\n",
      "      %fc4.weight : Float(1, 256, strides=[256, 1], requires_grad=0, device=cuda:0)):\n",
      "  %121 : Long(4, strides=[1], device=cpu) = onnx::Constant[value= -1  12   7   7 [ CPULongType{4} ]]() # dualnet7x7_16conv.py:64:0\n",
      "  %input : Float(8, 12, 7, 7, strides=[588, 49, 7, 1], device=cpu) = onnx::Reshape(%s.1, %121) # dualnet7x7_16conv.py:64:0\n",
      "  %input0 : Float(8, 48, 7, 7, strides=[2352, 49, 7, 1], device=cpu) = onnx::Conv[dilations=[1, 1], group=1, kernel_shape=[3, 3], pads=[1, 1, 1, 1], strides=[1, 1]](%input, %conv1.weight, %conv1.bias) # C:\\Users\\sen\\anaconda3\\envs\\az\\lib\\site-packages\\torch\\nn\\modules\\conv.py:443:0\n",
      "  %input.3 : Float(8, 48, 7, 7, strides=[2352, 49, 7, 1], device=cpu), %125 : Float(48, strides=[1], requires_grad=0, device=cuda:0), %126 : Float(48, strides=[1], requires_grad=0, device=cuda:0), %batch_norm_dead_output-138 : Tensor, %batch_norm_dead_output-139 : Tensor = onnx::BatchNormalization[epsilon=1.0000000000000001e-05, momentum=0.90000000000000002](%input0, %bn1.weight, %bn1.bias, %bn1.running_mean, %bn1.running_var) # C:\\Users\\sen\\anaconda3\\envs\\az\\lib\\site-packages\\torch\\nn\\functional.py:2421:0\n",
      "  %input0.3 : Float(8, 48, 7, 7, strides=[2352, 49, 7, 1], device=cpu) = onnx::Relu(%input.3) # C:\\Users\\sen\\anaconda3\\envs\\az\\lib\\site-packages\\torch\\nn\\functional.py:1442:0\n",
      "  %input0.7 : Float(8, 48, 7, 7, strides=[2352, 49, 7, 1], device=cpu) = onnx::Conv[dilations=[1, 1], group=1, kernel_shape=[3, 3], pads=[1, 1, 1, 1], strides=[1, 1]](%input0.3, %conv2.weight, %conv2.bias) # C:\\Users\\sen\\anaconda3\\envs\\az\\lib\\site-packages\\torch\\nn\\modules\\conv.py:443:0\n",
      "  %input.7 : Float(8, 48, 7, 7, strides=[2352, 49, 7, 1], device=cpu), %132 : Float(48, strides=[1], requires_grad=0, device=cuda:0), %133 : Float(48, strides=[1], requires_grad=0, device=cuda:0), %batch_norm_dead_output-145 : Tensor, %batch_norm_dead_output-146 : Tensor = onnx::BatchNormalization[epsilon=1.0000000000000001e-05, momentum=0.90000000000000002](%input0.7, %bn2.weight, %bn2.bias, %bn2.running_mean, %bn2.running_var) # C:\\Users\\sen\\anaconda3\\envs\\az\\lib\\site-packages\\torch\\nn\\functional.py:2421:0\n",
      "  %input1 : Float(8, 48, 7, 7, strides=[2352, 49, 7, 1], device=cpu) = onnx::Relu(%input.7) # C:\\Users\\sen\\anaconda3\\envs\\az\\lib\\site-packages\\torch\\nn\\functional.py:1442:0\n",
      "  %input0.11 : Float(8, 48, 7, 7, strides=[2352, 49, 7, 1], device=cpu) = onnx::Conv[dilations=[1, 1], group=1, kernel_shape=[3, 3], pads=[1, 1, 1, 1], strides=[1, 1]](%input1, %conv3.weight, %conv3.bias) # C:\\Users\\sen\\anaconda3\\envs\\az\\lib\\site-packages\\torch\\nn\\modules\\conv.py:443:0\n",
      "  %input.11 : Float(8, 48, 7, 7, strides=[2352, 49, 7, 1], device=cpu), %139 : Float(48, strides=[1], requires_grad=0, device=cuda:0), %140 : Float(48, strides=[1], requires_grad=0, device=cuda:0), %batch_norm_dead_output-152 : Tensor, %batch_norm_dead_output-153 : Tensor = onnx::BatchNormalization[epsilon=1.0000000000000001e-05, momentum=0.90000000000000002](%input0.11, %bn3.weight, %bn3.bias, %bn3.running_mean, %bn3.running_var) # C:\\Users\\sen\\anaconda3\\envs\\az\\lib\\site-packages\\torch\\nn\\functional.py:2421:0\n",
      "  %input2 : Float(8, 48, 7, 7, strides=[2352, 49, 7, 1], device=cpu) = onnx::Relu(%input.11) # C:\\Users\\sen\\anaconda3\\envs\\az\\lib\\site-packages\\torch\\nn\\functional.py:1442:0\n",
      "  %input0.15 : Float(8, 48, 7, 7, strides=[2352, 49, 7, 1], device=cpu) = onnx::Conv[dilations=[1, 1], group=1, kernel_shape=[3, 3], pads=[1, 1, 1, 1], strides=[1, 1]](%input2, %conv4.weight, %conv4.bias) # C:\\Users\\sen\\anaconda3\\envs\\az\\lib\\site-packages\\torch\\nn\\modules\\conv.py:443:0\n",
      "  %input.15 : Float(8, 48, 7, 7, strides=[2352, 49, 7, 1], device=cpu), %146 : Float(48, strides=[1], requires_grad=0, device=cuda:0), %147 : Float(48, strides=[1], requires_grad=0, device=cuda:0), %batch_norm_dead_output-159 : Tensor, %batch_norm_dead_output-160 : Tensor = onnx::BatchNormalization[epsilon=1.0000000000000001e-05, momentum=0.90000000000000002](%input0.15, %bn4.weight, %bn4.bias, %bn4.running_mean, %bn4.running_var) # C:\\Users\\sen\\anaconda3\\envs\\az\\lib\\site-packages\\torch\\nn\\functional.py:2421:0\n",
      "  %input3 : Float(8, 48, 7, 7, strides=[2352, 49, 7, 1], device=cpu) = onnx::Relu(%input.15) # C:\\Users\\sen\\anaconda3\\envs\\az\\lib\\site-packages\\torch\\nn\\functional.py:1442:0\n",
      "  %input0.19 : Float(8, 48, 7, 7, strides=[2352, 49, 7, 1], device=cpu) = onnx::Conv[dilations=[1, 1], group=1, kernel_shape=[3, 3], pads=[1, 1, 1, 1], strides=[1, 1]](%input3, %conv5.weight, %conv5.bias) # C:\\Users\\sen\\anaconda3\\envs\\az\\lib\\site-packages\\torch\\nn\\modules\\conv.py:443:0\n",
      "  %input.19 : Float(8, 48, 7, 7, strides=[2352, 49, 7, 1], device=cpu), %153 : Float(48, strides=[1], requires_grad=0, device=cuda:0), %154 : Float(48, strides=[1], requires_grad=0, device=cuda:0), %batch_norm_dead_output-166 : Tensor, %batch_norm_dead_output-167 : Tensor = onnx::BatchNormalization[epsilon=1.0000000000000001e-05, momentum=0.90000000000000002](%input0.19, %bn5.weight, %bn5.bias, %bn5.running_mean, %bn5.running_var) # C:\\Users\\sen\\anaconda3\\envs\\az\\lib\\site-packages\\torch\\nn\\functional.py:2421:0\n",
      "  %input4 : Float(8, 48, 7, 7, strides=[2352, 49, 7, 1], device=cpu) = onnx::Relu(%input.19) # C:\\Users\\sen\\anaconda3\\envs\\az\\lib\\site-packages\\torch\\nn\\functional.py:1442:0\n",
      "  %input0.23 : Float(8, 48, 5, 5, strides=[1200, 25, 5, 1], device=cpu) = onnx::Conv[dilations=[1, 1], group=1, kernel_shape=[3, 3], pads=[0, 0, 0, 0], strides=[1, 1]](%input4, %conv6.weight, %conv6.bias) # C:\\Users\\sen\\anaconda3\\envs\\az\\lib\\site-packages\\torch\\nn\\modules\\conv.py:443:0\n",
      "  %input.23 : Float(8, 48, 5, 5, strides=[1200, 25, 5, 1], device=cpu), %160 : Float(48, strides=[1], requires_grad=0, device=cuda:0), %161 : Float(48, strides=[1], requires_grad=0, device=cuda:0), %batch_norm_dead_output-173 : Tensor, %batch_norm_dead_output-174 : Tensor = onnx::BatchNormalization[epsilon=1.0000000000000001e-05, momentum=0.90000000000000002](%input0.23, %bn6.weight, %bn6.bias, %bn6.running_mean, %bn6.running_var) # C:\\Users\\sen\\anaconda3\\envs\\az\\lib\\site-packages\\torch\\nn\\functional.py:2421:0\n",
      "  %input5 : Float(8, 48, 5, 5, strides=[1200, 25, 5, 1], device=cpu) = onnx::Relu(%input.23) # C:\\Users\\sen\\anaconda3\\envs\\az\\lib\\site-packages\\torch\\nn\\functional.py:1442:0\n",
      "  %input0.27 : Float(8, 48, 5, 5, strides=[1200, 25, 5, 1], device=cpu) = onnx::Conv[dilations=[1, 1], group=1, kernel_shape=[3, 3], pads=[1, 1, 1, 1], strides=[1, 1]](%input5, %conv7.weight, %conv7.bias) # C:\\Users\\sen\\anaconda3\\envs\\az\\lib\\site-packages\\torch\\nn\\modules\\conv.py:443:0\n",
      "  %input.27 : Float(8, 48, 5, 5, strides=[1200, 25, 5, 1], device=cpu), %167 : Float(48, strides=[1], requires_grad=0, device=cuda:0), %168 : Float(48, strides=[1], requires_grad=0, device=cuda:0), %batch_norm_dead_output-180 : Tensor, %batch_norm_dead_output-181 : Tensor = onnx::BatchNormalization[epsilon=1.0000000000000001e-05, momentum=0.90000000000000002](%input0.27, %bn7.weight, %bn7.bias, %bn7.running_mean, %bn7.running_var) # C:\\Users\\sen\\anaconda3\\envs\\az\\lib\\site-packages\\torch\\nn\\functional.py:2421:0\n",
      "  %input6 : Float(8, 48, 5, 5, strides=[1200, 25, 5, 1], device=cpu) = onnx::Relu(%input.27) # C:\\Users\\sen\\anaconda3\\envs\\az\\lib\\site-packages\\torch\\nn\\functional.py:1442:0\n",
      "  %input0.31 : Float(8, 48, 5, 5, strides=[1200, 25, 5, 1], device=cpu) = onnx::Conv[dilations=[1, 1], group=1, kernel_shape=[3, 3], pads=[1, 1, 1, 1], strides=[1, 1]](%input6, %conv8.weight, %conv8.bias) # C:\\Users\\sen\\anaconda3\\envs\\az\\lib\\site-packages\\torch\\nn\\modules\\conv.py:443:0\n",
      "  %input.31 : Float(8, 48, 5, 5, strides=[1200, 25, 5, 1], device=cpu), %174 : Float(48, strides=[1], requires_grad=0, device=cuda:0), %175 : Float(48, strides=[1], requires_grad=0, device=cuda:0), %batch_norm_dead_output-187 : Tensor, %batch_norm_dead_output-188 : Tensor = onnx::BatchNormalization[epsilon=1.0000000000000001e-05, momentum=0.90000000000000002](%input0.31, %bn8.weight, %bn8.bias, %bn8.running_mean, %bn8.running_var) # C:\\Users\\sen\\anaconda3\\envs\\az\\lib\\site-packages\\torch\\nn\\functional.py:2421:0\n",
      "  %input7 : Float(8, 48, 5, 5, strides=[1200, 25, 5, 1], device=cpu) = onnx::Relu(%input.31) # C:\\Users\\sen\\anaconda3\\envs\\az\\lib\\site-packages\\torch\\nn\\functional.py:1442:0\n",
      "  %input0.35 : Float(8, 48, 5, 5, strides=[1200, 25, 5, 1], device=cpu) = onnx::Conv[dilations=[1, 1], group=1, kernel_shape=[3, 3], pads=[1, 1, 1, 1], strides=[1, 1]](%input7, %conv9.weight, %conv9.bias) # C:\\Users\\sen\\anaconda3\\envs\\az\\lib\\site-packages\\torch\\nn\\modules\\conv.py:443:0\n",
      "  %input.35 : Float(8, 48, 5, 5, strides=[1200, 25, 5, 1], device=cpu), %181 : Float(48, strides=[1], requires_grad=0, device=cuda:0), %182 : Float(48, strides=[1], requires_grad=0, device=cuda:0), %batch_norm_dead_output-194 : Tensor, %batch_norm_dead_output-195 : Tensor = onnx::BatchNormalization[epsilon=1.0000000000000001e-05, momentum=0.90000000000000002](%input0.35, %bn9.weight, %bn9.bias, %bn9.running_mean, %bn9.running_var) # C:\\Users\\sen\\anaconda3\\envs\\az\\lib\\site-packages\\torch\\nn\\functional.py:2421:0\n",
      "  %input8 : Float(8, 48, 5, 5, strides=[1200, 25, 5, 1], device=cpu) = onnx::Relu(%input.35) # C:\\Users\\sen\\anaconda3\\envs\\az\\lib\\site-packages\\torch\\nn\\functional.py:1442:0\n",
      "  %input0.39 : Float(8, 48, 5, 5, strides=[1200, 25, 5, 1], device=cpu) = onnx::Conv[dilations=[1, 1], group=1, kernel_shape=[3, 3], pads=[1, 1, 1, 1], strides=[1, 1]](%input8, %conv10.weight, %conv10.bias) # C:\\Users\\sen\\anaconda3\\envs\\az\\lib\\site-packages\\torch\\nn\\modules\\conv.py:443:0\n",
      "  %input.39 : Float(8, 48, 5, 5, strides=[1200, 25, 5, 1], device=cpu), %188 : Float(48, strides=[1], requires_grad=0, device=cuda:0), %189 : Float(48, strides=[1], requires_grad=0, device=cuda:0), %batch_norm_dead_output-201 : Tensor, %batch_norm_dead_output-202 : Tensor = onnx::BatchNormalization[epsilon=1.0000000000000001e-05, momentum=0.90000000000000002](%input0.39, %bn10.weight, %bn10.bias, %bn10.running_mean, %bn10.running_var) # C:\\Users\\sen\\anaconda3\\envs\\az\\lib\\site-packages\\torch\\nn\\functional.py:2421:0\n",
      "  %input9 : Float(8, 48, 5, 5, strides=[1200, 25, 5, 1], device=cpu) = onnx::Relu(%input.39) # C:\\Users\\sen\\anaconda3\\envs\\az\\lib\\site-packages\\torch\\nn\\functional.py:1442:0\n",
      "  %input0.43 : Float(8, 48, 5, 5, strides=[1200, 25, 5, 1], device=cpu) = onnx::Conv[dilations=[1, 1], group=1, kernel_shape=[3, 3], pads=[1, 1, 1, 1], strides=[1, 1]](%input9, %conv11.weight, %conv11.bias) # C:\\Users\\sen\\anaconda3\\envs\\az\\lib\\site-packages\\torch\\nn\\modules\\conv.py:443:0\n",
      "  %input.43 : Float(8, 48, 5, 5, strides=[1200, 25, 5, 1], device=cpu), %195 : Float(48, strides=[1], requires_grad=0, device=cuda:0), %196 : Float(48, strides=[1], requires_grad=0, device=cuda:0), %batch_norm_dead_output-208 : Tensor, %batch_norm_dead_output-209 : Tensor = onnx::BatchNormalization[epsilon=1.0000000000000001e-05, momentum=0.90000000000000002](%input0.43, %bn11.weight, %bn11.bias, %bn11.running_mean, %bn11.running_var) # C:\\Users\\sen\\anaconda3\\envs\\az\\lib\\site-packages\\torch\\nn\\functional.py:2421:0\n",
      "  %input10 : Float(8, 48, 5, 5, strides=[1200, 25, 5, 1], device=cpu) = onnx::Relu(%input.43) # C:\\Users\\sen\\anaconda3\\envs\\az\\lib\\site-packages\\torch\\nn\\functional.py:1442:0\n",
      "  %input0.47 : Float(8, 48, 3, 3, strides=[432, 9, 3, 1], device=cpu) = onnx::Conv[dilations=[1, 1], group=1, kernel_shape=[3, 3], pads=[0, 0, 0, 0], strides=[1, 1]](%input10, %conv12.weight, %conv12.bias) # C:\\Users\\sen\\anaconda3\\envs\\az\\lib\\site-packages\\torch\\nn\\modules\\conv.py:443:0\n",
      "  %input.47 : Float(8, 48, 3, 3, strides=[432, 9, 3, 1], device=cpu), %202 : Float(48, strides=[1], requires_grad=0, device=cuda:0), %203 : Float(48, strides=[1], requires_grad=0, device=cuda:0), %batch_norm_dead_output-215 : Tensor, %batch_norm_dead_output-216 : Tensor = onnx::BatchNormalization[epsilon=1.0000000000000001e-05, momentum=0.90000000000000002](%input0.47, %bn12.weight, %bn12.bias, %bn12.running_mean, %bn12.running_var) # C:\\Users\\sen\\anaconda3\\envs\\az\\lib\\site-packages\\torch\\nn\\functional.py:2421:0\n",
      "  %input11 : Float(8, 48, 3, 3, strides=[432, 9, 3, 1], device=cpu) = onnx::Relu(%input.47) # C:\\Users\\sen\\anaconda3\\envs\\az\\lib\\site-packages\\torch\\nn\\functional.py:1442:0\n",
      "  %input0.51 : Float(8, 48, 3, 3, strides=[432, 9, 3, 1], device=cpu) = onnx::Conv[dilations=[1, 1], group=1, kernel_shape=[3, 3], pads=[1, 1, 1, 1], strides=[1, 1]](%input11, %conv13.weight, %conv13.bias) # C:\\Users\\sen\\anaconda3\\envs\\az\\lib\\site-packages\\torch\\nn\\modules\\conv.py:443:0\n",
      "  %input.51 : Float(8, 48, 3, 3, strides=[432, 9, 3, 1], device=cpu), %209 : Float(48, strides=[1], requires_grad=0, device=cuda:0), %210 : Float(48, strides=[1], requires_grad=0, device=cuda:0), %batch_norm_dead_output-222 : Tensor, %batch_norm_dead_output-223 : Tensor = onnx::BatchNormalization[epsilon=1.0000000000000001e-05, momentum=0.90000000000000002](%input0.51, %bn13.weight, %bn13.bias, %bn13.running_mean, %bn13.running_var) # C:\\Users\\sen\\anaconda3\\envs\\az\\lib\\site-packages\\torch\\nn\\functional.py:2421:0\n",
      "  %input12 : Float(8, 48, 3, 3, strides=[432, 9, 3, 1], device=cpu) = onnx::Relu(%input.51) # C:\\Users\\sen\\anaconda3\\envs\\az\\lib\\site-packages\\torch\\nn\\functional.py:1442:0\n",
      "  %input0.55 : Float(8, 48, 3, 3, strides=[432, 9, 3, 1], device=cpu) = onnx::Conv[dilations=[1, 1], group=1, kernel_shape=[3, 3], pads=[1, 1, 1, 1], strides=[1, 1]](%input12, %conv14.weight, %conv14.bias) # C:\\Users\\sen\\anaconda3\\envs\\az\\lib\\site-packages\\torch\\nn\\modules\\conv.py:443:0\n",
      "  %input.55 : Float(8, 48, 3, 3, strides=[432, 9, 3, 1], device=cpu), %216 : Float(48, strides=[1], requires_grad=0, device=cuda:0), %217 : Float(48, strides=[1], requires_grad=0, device=cuda:0), %batch_norm_dead_output-229 : Tensor, %batch_norm_dead_output-230 : Tensor = onnx::BatchNormalization[epsilon=1.0000000000000001e-05, momentum=0.90000000000000002](%input0.55, %bn14.weight, %bn14.bias, %bn14.running_mean, %bn14.running_var) # C:\\Users\\sen\\anaconda3\\envs\\az\\lib\\site-packages\\torch\\nn\\functional.py:2421:0\n",
      "  %input13 : Float(8, 48, 3, 3, strides=[432, 9, 3, 1], device=cpu) = onnx::Relu(%input.55) # C:\\Users\\sen\\anaconda3\\envs\\az\\lib\\site-packages\\torch\\nn\\functional.py:1442:0\n",
      "  %input0.59 : Float(8, 48, 3, 3, strides=[432, 9, 3, 1], device=cpu) = onnx::Conv[dilations=[1, 1], group=1, kernel_shape=[3, 3], pads=[1, 1, 1, 1], strides=[1, 1]](%input13, %conv15.weight, %conv15.bias) # C:\\Users\\sen\\anaconda3\\envs\\az\\lib\\site-packages\\torch\\nn\\modules\\conv.py:443:0\n",
      "  %input.59 : Float(8, 48, 3, 3, strides=[432, 9, 3, 1], device=cpu), %223 : Float(48, strides=[1], requires_grad=0, device=cuda:0), %224 : Float(48, strides=[1], requires_grad=0, device=cuda:0), %batch_norm_dead_output-236 : Tensor, %batch_norm_dead_output-237 : Tensor = onnx::BatchNormalization[epsilon=1.0000000000000001e-05, momentum=0.90000000000000002](%input0.59, %bn15.weight, %bn15.bias, %bn15.running_mean, %bn15.running_var) # C:\\Users\\sen\\anaconda3\\envs\\az\\lib\\site-packages\\torch\\nn\\functional.py:2421:0\n",
      "  %input14 : Float(8, 48, 3, 3, strides=[432, 9, 3, 1], device=cpu) = onnx::Relu(%input.59) # C:\\Users\\sen\\anaconda3\\envs\\az\\lib\\site-packages\\torch\\nn\\functional.py:1442:0\n",
      "  %input0.63 : Float(8, 48, 3, 3, strides=[432, 9, 3, 1], device=cpu) = onnx::Conv[dilations=[1, 1], group=1, kernel_shape=[3, 3], pads=[1, 1, 1, 1], strides=[1, 1]](%input14, %conv16.weight, %conv16.bias) # C:\\Users\\sen\\anaconda3\\envs\\az\\lib\\site-packages\\torch\\nn\\modules\\conv.py:443:0\n",
      "  %input.63 : Float(8, 48, 3, 3, strides=[432, 9, 3, 1], device=cpu), %230 : Float(48, strides=[1], requires_grad=0, device=cuda:0), %231 : Float(48, strides=[1], requires_grad=0, device=cuda:0), %batch_norm_dead_output-243 : Tensor, %batch_norm_dead_output-244 : Tensor = onnx::BatchNormalization[epsilon=1.0000000000000001e-05, momentum=0.90000000000000002](%input0.63, %bn16.weight, %bn16.bias, %bn16.running_mean, %bn16.running_var) # C:\\Users\\sen\\anaconda3\\envs\\az\\lib\\site-packages\\torch\\nn\\functional.py:2421:0\n",
      "  %s0 : Float(8, 48, 3, 3, strides=[432, 9, 3, 1], device=cpu) = onnx::Relu(%input.63) # C:\\Users\\sen\\anaconda3\\envs\\az\\lib\\site-packages\\torch\\nn\\functional.py:1442:0\n",
      "  %235 : Long(2, strides=[1], device=cpu) = onnx::Constant[value=  -1  432 [ CPULongType{2} ]]() # dualnet7x7_16conv.py:83:0\n",
      "  %input15 : Float(8, 432, strides=[432, 1], device=cpu) = onnx::Reshape(%s0, %235) # dualnet7x7_16conv.py:83:0\n",
      "  %237 : Float(8, 512, strides=[512, 1], device=cpu) = onnx::Gemm[alpha=1., beta=1., transB=1](%input15, %fc1.weight, %fc1.bias) # C:\\Users\\sen\\anaconda3\\envs\\az\\lib\\site-packages\\torch\\nn\\modules\\linear.py:103:0\n",
      "  %input.67 : Float(8, 256, strides=[256, 1], device=cpu) = onnx::Gemm[alpha=1., beta=1., transB=1](%237, %fc2.weight, %fc2.bias) # C:\\Users\\sen\\anaconda3\\envs\\az\\lib\\site-packages\\torch\\nn\\modules\\linear.py:103:0\n",
      "  %input.71 : Float(8, 50, strides=[50, 1], device=cpu) = onnx::Gemm[alpha=1., beta=1., transB=1](%input.67, %fc3.weight, %fc3.bias) # C:\\Users\\sen\\anaconda3\\envs\\az\\lib\\site-packages\\torch\\nn\\modules\\linear.py:103:0\n",
      "  %v : Float(8, 1, strides=[1, 1], device=cpu) = onnx::Gemm[alpha=1., beta=1., transB=1](%input.67, %fc4.weight, %fc4.bias) # C:\\Users\\sen\\anaconda3\\envs\\az\\lib\\site-packages\\torch\\nn\\modules\\linear.py:103:0\n",
      "  %241 : Float(8, 50, strides=[50, 1], device=cpu) = onnx::LogSoftmax[axis=1](%input.71) # C:\\Users\\sen\\anaconda3\\envs\\az\\lib\\site-packages\\torch\\nn\\functional.py:1907:0\n",
      "  %242 : Float(8, 50, strides=[50, 1], requires_grad=1, device=cuda:0) = onnx::Exp(%241) # dualnet7x7_16conv.py:90:0\n",
      "  %243 : Float(8, 1, strides=[1, 1], requires_grad=1, device=cuda:0) = onnx::Tanh(%v) # dualnet7x7_16conv.py:90:0\n",
      "  return (%242, %243)\n",
      "\n"
     ]
    }
   ],
   "source": [
    "loaded.eval()\n",
    "bisze = 7\n",
    "dummy_input = torch.randn((8, 12, bisze, bisze)).to(\"cuda:0\")\n",
    "torch.onnx.export(loaded, dummy_input, \"dualnet.onnx\", do_constant_folding=True, export_params=True, verbose=True)"
   ]
  },
  {
   "cell_type": "code",
   "execution_count": 17,
   "metadata": {},
   "outputs": [],
   "source": [
    "# from onnx_tf.backend import prepare\n",
    "\n",
    "# # tf.autograph.experimental.do_not_convert\n",
    "# onnx_model = onnx.load('dualnet.onnx')\n",
    "# tf_rep = prepare(onnx_model, device='gpu')\n",
    "# tf_rep.export_graph('model.pb')"
   ]
  },
  {
   "cell_type": "code",
   "execution_count": 18,
   "metadata": {},
   "outputs": [],
   "source": [
    "# !onnx-tf convert -i dualnet.onnx -o onnxout\n",
    "# !tensorflowjs_converter --input_format=tf_saved_model --output_node_names='output_0' --saved_model_tags=serve onnxout js_model --quantize_uint8"
   ]
  },
  {
   "cell_type": "code",
   "execution_count": 32,
   "metadata": {},
   "outputs": [
    {
     "name": "stderr",
     "output_type": "stream",
     "text": [
      "WARNING:root:The original model opset version is 9, which does not support quantization. Please update the model to opset >= 11. Updating the model automatically to opset 11. Please verify the quantized model.\n"
     ]
    }
   ],
   "source": [
    "import onnx\n",
    "from onnxruntime.quantization import quantize_dynamic, QuantType\n",
    "\n",
    "model_fp32 = 'dualnet.onnx'\n",
    "model_quant = 'quant.onnx'\n",
    "quantized_model = quantize_dynamic(model_fp32, model_quant, weight_type=QuantType.QUInt8)"
   ]
  },
  {
   "cell_type": "code",
   "execution_count": 12,
   "metadata": {},
   "outputs": [
    {
     "name": "stdout",
     "output_type": "stream",
     "text": [
      "Active code page: 65001\n"
     ]
    },
    {
     "name": "stderr",
     "output_type": "stream",
     "text": [
      "The system cannot find the path specified.\n",
      "'saved_model_cli' is not recognized as an internal or external command,\n",
      "operable program or batch file.\n"
     ]
    }
   ],
   "source": [
    "# !chcp 65001\n",
    "# !cd train\n",
    "# !saved_model_cli show --dir ./model.pb --all"
   ]
  },
  {
   "cell_type": "code",
   "execution_count": 14,
   "metadata": {},
   "outputs": [
    {
     "name": "stderr",
     "output_type": "stream",
     "text": [
      "Traceback (most recent call last):\n",
      "  File \"C:\\Users\\sen\\anaconda3\\envs\\az\\lib\\runpy.py\", line 194, in _run_module_as_main\n",
      "    return _run_code(code, main_globals, None,\n",
      "  File \"C:\\Users\\sen\\anaconda3\\envs\\az\\lib\\runpy.py\", line 87, in _run_code\n",
      "    exec(code, run_globals)\n",
      "  File \"C:\\Users\\sen\\anaconda3\\envs\\az\\Scripts\\tensorflowjs_converter.exe\\__main__.py\", line 4, in <module>\n",
      "  File \"C:\\Users\\sen\\anaconda3\\envs\\az\\lib\\site-packages\\tensorflowjs\\__init__.py\", line 21, in <module>\n",
      "    from tensorflowjs import converters\n",
      "  File \"C:\\Users\\sen\\anaconda3\\envs\\az\\lib\\site-packages\\tensorflowjs\\converters\\__init__.py\", line 21, in <module>\n",
      "    from tensorflowjs.converters.converter import convert\n",
      "  File \"C:\\Users\\sen\\anaconda3\\envs\\az\\lib\\site-packages\\tensorflowjs\\converters\\converter.py\", line 28, in <module>\n",
      "    import h5py\n",
      "ModuleNotFoundError: No module named 'h5py'\n"
     ]
    }
   ],
   "source": [
    "\n",
    "# !tensorflowjs_converter --input_format=tf_saved_model --output_node_names='output_0' --saved_model_tags=serve model.pb js_model --quantize_uint8"
   ]
  },
  {
   "cell_type": "code",
   "execution_count": 1,
   "metadata": {},
   "outputs": [
    {
     "name": "stderr",
     "output_type": "stream",
     "text": [
      "c:\\Users\\sen\\anaconda3\\envs\\py38\\lib\\site-packages\\numpy\\_distributor_init.py:30: UserWarning: loaded more than 1 DLL from .libs:\n",
      "c:\\Users\\sen\\anaconda3\\envs\\py38\\lib\\site-packages\\numpy\\.libs\\libopenblas.EL2C6PLE4ZYW3ECEVIV3OXXGRN2NRFM2.gfortran-win_amd64.dll\n",
      "c:\\Users\\sen\\anaconda3\\envs\\py38\\lib\\site-packages\\numpy\\.libs\\libopenblas.PYQHXLVVQ7VESDPUVUADXEVJOBGHJPAY.gfortran-win_amd64.dll\n",
      "c:\\Users\\sen\\anaconda3\\envs\\py38\\lib\\site-packages\\numpy\\.libs\\libopenblas.WCDJNK7YVMPZQ2ME2ZZHJJRJ3JIKNDB7.gfortran-win_amd64.dll\n",
      "  warnings.warn(\"loaded more than 1 DLL from .libs:\"\n"
     ]
    },
    {
     "ename": "KeyboardInterrupt",
     "evalue": "",
     "output_type": "error",
     "traceback": [
      "\u001b[1;31m---------------------------------------------------------------------------\u001b[0m",
      "\u001b[1;31mKeyboardInterrupt\u001b[0m                         Traceback (most recent call last)",
      "\u001b[1;32mc:\\Users\\sen\\Documents\\GitHub\\alphagozero-rs\\train\\export_tfjs.ipynb Cell 1'\u001b[0m in \u001b[0;36m<cell line: 1>\u001b[1;34m()\u001b[0m\n\u001b[1;32m----> <a href='vscode-notebook-cell:/c%3A/Users/sen/Documents/GitHub/alphagozero-rs/train/export_tfjs.ipynb#ch0000000?line=0'>1</a>\u001b[0m \u001b[39mimport\u001b[39;00m \u001b[39mtensorflow\u001b[39;00m \u001b[39mas\u001b[39;00m \u001b[39mtf\u001b[39;00m\n\u001b[0;32m      <a href='vscode-notebook-cell:/c%3A/Users/sen/Documents/GitHub/alphagozero-rs/train/export_tfjs.ipynb#ch0000000?line=1'>2</a>\u001b[0m \u001b[39mfrom\u001b[39;00m \u001b[39mtensorflow\u001b[39;00m \u001b[39mimport\u001b[39;00m keras\n\u001b[0;32m      <a href='vscode-notebook-cell:/c%3A/Users/sen/Documents/GitHub/alphagozero-rs/train/export_tfjs.ipynb#ch0000000?line=3'>4</a>\u001b[0m \u001b[39mprint\u001b[39m(tf\u001b[39m.\u001b[39mversion\u001b[39m.\u001b[39mVERSION)\n",
      "File \u001b[1;32m~\\AppData\\Roaming\\Python\\Python38\\site-packages\\tensorflow\\__init__.py:37\u001b[0m, in \u001b[0;36m<module>\u001b[1;34m\u001b[0m\n\u001b[0;32m     34\u001b[0m \u001b[39mimport\u001b[39;00m \u001b[39msys\u001b[39;00m \u001b[39mas\u001b[39;00m \u001b[39m_sys\u001b[39;00m\n\u001b[0;32m     35\u001b[0m \u001b[39mimport\u001b[39;00m \u001b[39mtyping\u001b[39;00m \u001b[39mas\u001b[39;00m \u001b[39m_typing\u001b[39;00m\n\u001b[1;32m---> 37\u001b[0m \u001b[39mfrom\u001b[39;00m \u001b[39mtensorflow\u001b[39;00m\u001b[39m.\u001b[39;00m\u001b[39mpython\u001b[39;00m\u001b[39m.\u001b[39;00m\u001b[39mtools\u001b[39;00m \u001b[39mimport\u001b[39;00m module_util \u001b[39mas\u001b[39;00m _module_util\n\u001b[0;32m     38\u001b[0m \u001b[39mfrom\u001b[39;00m \u001b[39mtensorflow\u001b[39;00m\u001b[39m.\u001b[39;00m\u001b[39mpython\u001b[39;00m\u001b[39m.\u001b[39;00m\u001b[39mutil\u001b[39;00m\u001b[39m.\u001b[39;00m\u001b[39mlazy_loader\u001b[39;00m \u001b[39mimport\u001b[39;00m LazyLoader \u001b[39mas\u001b[39;00m _LazyLoader\n\u001b[0;32m     40\u001b[0m \u001b[39m# Make sure code inside the TensorFlow codebase can use tf2.enabled() at import.\u001b[39;00m\n",
      "File \u001b[1;32m~\\AppData\\Roaming\\Python\\Python38\\site-packages\\tensorflow\\python\\__init__.py:45\u001b[0m, in \u001b[0;36m<module>\u001b[1;34m\u001b[0m\n\u001b[0;32m     43\u001b[0m \u001b[39mfrom\u001b[39;00m \u001b[39mtensorflow\u001b[39;00m\u001b[39m.\u001b[39;00m\u001b[39mpython\u001b[39;00m \u001b[39mimport\u001b[39;00m distribute\n\u001b[0;32m     44\u001b[0m \u001b[39m# from tensorflow.python import keras\u001b[39;00m\n\u001b[1;32m---> 45\u001b[0m \u001b[39mfrom\u001b[39;00m \u001b[39mtensorflow\u001b[39;00m\u001b[39m.\u001b[39;00m\u001b[39mpython\u001b[39;00m\u001b[39m.\u001b[39;00m\u001b[39mfeature_column\u001b[39;00m \u001b[39mimport\u001b[39;00m feature_column_lib \u001b[39mas\u001b[39;00m feature_column\n\u001b[0;32m     46\u001b[0m \u001b[39m# from tensorflow.python.layers import layers\u001b[39;00m\n\u001b[0;32m     47\u001b[0m \u001b[39mfrom\u001b[39;00m \u001b[39mtensorflow\u001b[39;00m\u001b[39m.\u001b[39;00m\u001b[39mpython\u001b[39;00m\u001b[39m.\u001b[39;00m\u001b[39mmodule\u001b[39;00m \u001b[39mimport\u001b[39;00m module\n",
      "File \u001b[1;32m~\\AppData\\Roaming\\Python\\Python38\\site-packages\\tensorflow\\python\\feature_column\\feature_column_lib.py:18\u001b[0m, in \u001b[0;36m<module>\u001b[1;34m\u001b[0m\n\u001b[0;32m     15\u001b[0m \u001b[39m\"\"\"FeatureColumns: tools for ingesting and representing features.\"\"\"\u001b[39;00m\n\u001b[0;32m     17\u001b[0m \u001b[39m# pylint: disable=unused-import,line-too-long,wildcard-import,g-bad-import-order\u001b[39;00m\n\u001b[1;32m---> 18\u001b[0m \u001b[39mfrom\u001b[39;00m \u001b[39mtensorflow\u001b[39;00m\u001b[39m.\u001b[39;00m\u001b[39mpython\u001b[39;00m\u001b[39m.\u001b[39;00m\u001b[39mfeature_column\u001b[39;00m\u001b[39m.\u001b[39;00m\u001b[39mfeature_column\u001b[39;00m \u001b[39mimport\u001b[39;00m \u001b[39m*\u001b[39m\n\u001b[0;32m     19\u001b[0m \u001b[39mfrom\u001b[39;00m \u001b[39mtensorflow\u001b[39;00m\u001b[39m.\u001b[39;00m\u001b[39mpython\u001b[39;00m\u001b[39m.\u001b[39;00m\u001b[39mfeature_column\u001b[39;00m\u001b[39m.\u001b[39;00m\u001b[39mfeature_column_v2\u001b[39;00m \u001b[39mimport\u001b[39;00m \u001b[39m*\u001b[39m\n\u001b[0;32m     20\u001b[0m \u001b[39mfrom\u001b[39;00m \u001b[39mtensorflow\u001b[39;00m\u001b[39m.\u001b[39;00m\u001b[39mpython\u001b[39;00m\u001b[39m.\u001b[39;00m\u001b[39mfeature_column\u001b[39;00m\u001b[39m.\u001b[39;00m\u001b[39msequence_feature_column\u001b[39;00m \u001b[39mimport\u001b[39;00m \u001b[39m*\u001b[39m\n",
      "File \u001b[1;32m~\\AppData\\Roaming\\Python\\Python38\\site-packages\\tensorflow\\python\\feature_column\\feature_column.py:143\u001b[0m, in \u001b[0;36m<module>\u001b[1;34m\u001b[0m\n\u001b[0;32m    141\u001b[0m \u001b[39mfrom\u001b[39;00m \u001b[39mtensorflow\u001b[39;00m\u001b[39m.\u001b[39;00m\u001b[39mpython\u001b[39;00m\u001b[39m.\u001b[39;00m\u001b[39mframework\u001b[39;00m \u001b[39mimport\u001b[39;00m sparse_tensor \u001b[39mas\u001b[39;00m sparse_tensor_lib\n\u001b[0;32m    142\u001b[0m \u001b[39mfrom\u001b[39;00m \u001b[39mtensorflow\u001b[39;00m\u001b[39m.\u001b[39;00m\u001b[39mpython\u001b[39;00m\u001b[39m.\u001b[39;00m\u001b[39mframework\u001b[39;00m \u001b[39mimport\u001b[39;00m tensor_shape\n\u001b[1;32m--> 143\u001b[0m \u001b[39mfrom\u001b[39;00m \u001b[39mtensorflow\u001b[39;00m\u001b[39m.\u001b[39;00m\u001b[39mpython\u001b[39;00m\u001b[39m.\u001b[39;00m\u001b[39mlayers\u001b[39;00m \u001b[39mimport\u001b[39;00m base\n\u001b[0;32m    144\u001b[0m \u001b[39mfrom\u001b[39;00m \u001b[39mtensorflow\u001b[39;00m\u001b[39m.\u001b[39;00m\u001b[39mpython\u001b[39;00m\u001b[39m.\u001b[39;00m\u001b[39mops\u001b[39;00m \u001b[39mimport\u001b[39;00m array_ops\n\u001b[0;32m    145\u001b[0m \u001b[39mfrom\u001b[39;00m \u001b[39mtensorflow\u001b[39;00m\u001b[39m.\u001b[39;00m\u001b[39mpython\u001b[39;00m\u001b[39m.\u001b[39;00m\u001b[39mops\u001b[39;00m \u001b[39mimport\u001b[39;00m check_ops\n",
      "File \u001b[1;32m~\\AppData\\Roaming\\Python\\Python38\\site-packages\\tensorflow\\python\\layers\\base.py:16\u001b[0m, in \u001b[0;36m<module>\u001b[1;34m\u001b[0m\n\u001b[0;32m      1\u001b[0m \u001b[39m# Copyright 2015 The TensorFlow Authors. All Rights Reserved.\u001b[39;00m\n\u001b[0;32m      2\u001b[0m \u001b[39m#\u001b[39;00m\n\u001b[0;32m      3\u001b[0m \u001b[39m# Licensed under the Apache License, Version 2.0 (the \"License\");\u001b[39;00m\n\u001b[1;32m   (...)\u001b[0m\n\u001b[0;32m     13\u001b[0m \u001b[39m# limitations under the License.\u001b[39;00m\n\u001b[0;32m     14\u001b[0m \u001b[39m# =============================================================================\u001b[39;00m\n\u001b[0;32m     15\u001b[0m \u001b[39m\"\"\"Contains the base Layer class, from which all layers inherit.\"\"\"\u001b[39;00m\n\u001b[1;32m---> 16\u001b[0m \u001b[39mfrom\u001b[39;00m \u001b[39mtensorflow\u001b[39;00m\u001b[39m.\u001b[39;00m\u001b[39mpython\u001b[39;00m\u001b[39m.\u001b[39;00m\u001b[39mkeras\u001b[39;00m\u001b[39m.\u001b[39;00m\u001b[39mlegacy_tf_layers\u001b[39;00m \u001b[39mimport\u001b[39;00m base\n\u001b[0;32m     18\u001b[0m InputSpec \u001b[39m=\u001b[39m base\u001b[39m.\u001b[39mInputSpec\n\u001b[0;32m     20\u001b[0m keras_style_scope \u001b[39m=\u001b[39m base\u001b[39m.\u001b[39mkeras_style_scope\n",
      "File \u001b[1;32m~\\AppData\\Roaming\\Python\\Python38\\site-packages\\tensorflow\\python\\keras\\__init__.py:25\u001b[0m, in \u001b[0;36m<module>\u001b[1;34m\u001b[0m\n\u001b[0;32m     22\u001b[0m \u001b[39mfrom\u001b[39;00m \u001b[39mtensorflow\u001b[39;00m\u001b[39m.\u001b[39;00m\u001b[39mpython\u001b[39;00m\u001b[39m.\u001b[39;00m\u001b[39mkeras\u001b[39;00m \u001b[39mimport\u001b[39;00m distribute\n\u001b[0;32m     24\u001b[0m \u001b[39m# See b/110718070#comment18 for more details about this import.\u001b[39;00m\n\u001b[1;32m---> 25\u001b[0m \u001b[39mfrom\u001b[39;00m \u001b[39mtensorflow\u001b[39;00m\u001b[39m.\u001b[39;00m\u001b[39mpython\u001b[39;00m\u001b[39m.\u001b[39;00m\u001b[39mkeras\u001b[39;00m \u001b[39mimport\u001b[39;00m models\n\u001b[0;32m     27\u001b[0m \u001b[39mfrom\u001b[39;00m \u001b[39mtensorflow\u001b[39;00m\u001b[39m.\u001b[39;00m\u001b[39mpython\u001b[39;00m\u001b[39m.\u001b[39;00m\u001b[39mkeras\u001b[39;00m\u001b[39m.\u001b[39;00m\u001b[39mengine\u001b[39;00m\u001b[39m.\u001b[39;00m\u001b[39minput_layer\u001b[39;00m \u001b[39mimport\u001b[39;00m Input\n\u001b[0;32m     28\u001b[0m \u001b[39mfrom\u001b[39;00m \u001b[39mtensorflow\u001b[39;00m\u001b[39m.\u001b[39;00m\u001b[39mpython\u001b[39;00m\u001b[39m.\u001b[39;00m\u001b[39mkeras\u001b[39;00m\u001b[39m.\u001b[39;00m\u001b[39mengine\u001b[39;00m\u001b[39m.\u001b[39;00m\u001b[39msequential\u001b[39;00m \u001b[39mimport\u001b[39;00m Sequential\n",
      "File \u001b[1;32m~\\AppData\\Roaming\\Python\\Python38\\site-packages\\tensorflow\\python\\keras\\models.py:20\u001b[0m, in \u001b[0;36m<module>\u001b[1;34m\u001b[0m\n\u001b[0;32m     18\u001b[0m \u001b[39mfrom\u001b[39;00m \u001b[39mtensorflow\u001b[39;00m\u001b[39m.\u001b[39;00m\u001b[39mpython\u001b[39;00m\u001b[39m.\u001b[39;00m\u001b[39mframework\u001b[39;00m \u001b[39mimport\u001b[39;00m ops\n\u001b[0;32m     19\u001b[0m \u001b[39mfrom\u001b[39;00m \u001b[39mtensorflow\u001b[39;00m\u001b[39m.\u001b[39;00m\u001b[39mpython\u001b[39;00m\u001b[39m.\u001b[39;00m\u001b[39mkeras\u001b[39;00m \u001b[39mimport\u001b[39;00m backend\n\u001b[1;32m---> 20\u001b[0m \u001b[39mfrom\u001b[39;00m \u001b[39mtensorflow\u001b[39;00m\u001b[39m.\u001b[39;00m\u001b[39mpython\u001b[39;00m\u001b[39m.\u001b[39;00m\u001b[39mkeras\u001b[39;00m \u001b[39mimport\u001b[39;00m metrics \u001b[39mas\u001b[39;00m metrics_module\n\u001b[0;32m     21\u001b[0m \u001b[39mfrom\u001b[39;00m \u001b[39mtensorflow\u001b[39;00m\u001b[39m.\u001b[39;00m\u001b[39mpython\u001b[39;00m\u001b[39m.\u001b[39;00m\u001b[39mkeras\u001b[39;00m \u001b[39mimport\u001b[39;00m optimizer_v1\n\u001b[0;32m     22\u001b[0m \u001b[39mfrom\u001b[39;00m \u001b[39mtensorflow\u001b[39;00m\u001b[39m.\u001b[39;00m\u001b[39mpython\u001b[39;00m\u001b[39m.\u001b[39;00m\u001b[39mkeras\u001b[39;00m\u001b[39m.\u001b[39;00m\u001b[39mengine\u001b[39;00m \u001b[39mimport\u001b[39;00m functional\n",
      "File \u001b[1;32m~\\AppData\\Roaming\\Python\\Python38\\site-packages\\tensorflow\\python\\keras\\metrics.py:34\u001b[0m, in \u001b[0;36m<module>\u001b[1;34m\u001b[0m\n\u001b[0;32m     32\u001b[0m \u001b[39mfrom\u001b[39;00m \u001b[39mtensorflow\u001b[39;00m\u001b[39m.\u001b[39;00m\u001b[39mpython\u001b[39;00m\u001b[39m.\u001b[39;00m\u001b[39mframework\u001b[39;00m \u001b[39mimport\u001b[39;00m ops\n\u001b[0;32m     33\u001b[0m \u001b[39mfrom\u001b[39;00m \u001b[39mtensorflow\u001b[39;00m\u001b[39m.\u001b[39;00m\u001b[39mpython\u001b[39;00m\u001b[39m.\u001b[39;00m\u001b[39mframework\u001b[39;00m \u001b[39mimport\u001b[39;00m tensor_shape\n\u001b[1;32m---> 34\u001b[0m \u001b[39mfrom\u001b[39;00m \u001b[39mtensorflow\u001b[39;00m\u001b[39m.\u001b[39;00m\u001b[39mpython\u001b[39;00m\u001b[39m.\u001b[39;00m\u001b[39mkeras\u001b[39;00m \u001b[39mimport\u001b[39;00m activations\n\u001b[0;32m     35\u001b[0m \u001b[39mfrom\u001b[39;00m \u001b[39mtensorflow\u001b[39;00m\u001b[39m.\u001b[39;00m\u001b[39mpython\u001b[39;00m\u001b[39m.\u001b[39;00m\u001b[39mkeras\u001b[39;00m \u001b[39mimport\u001b[39;00m backend\n\u001b[0;32m     36\u001b[0m \u001b[39mfrom\u001b[39;00m \u001b[39mtensorflow\u001b[39;00m\u001b[39m.\u001b[39;00m\u001b[39mpython\u001b[39;00m\u001b[39m.\u001b[39;00m\u001b[39mkeras\u001b[39;00m\u001b[39m.\u001b[39;00m\u001b[39mengine\u001b[39;00m \u001b[39mimport\u001b[39;00m base_layer\n",
      "File \u001b[1;32m~\\AppData\\Roaming\\Python\\Python38\\site-packages\\tensorflow\\python\\keras\\activations.py:18\u001b[0m, in \u001b[0;36m<module>\u001b[1;34m\u001b[0m\n\u001b[0;32m     15\u001b[0m \u001b[39m\"\"\"Built-in activation functions.\"\"\"\u001b[39;00m\n\u001b[0;32m     17\u001b[0m \u001b[39mfrom\u001b[39;00m \u001b[39mtensorflow\u001b[39;00m\u001b[39m.\u001b[39;00m\u001b[39mpython\u001b[39;00m\u001b[39m.\u001b[39;00m\u001b[39mkeras\u001b[39;00m \u001b[39mimport\u001b[39;00m backend\n\u001b[1;32m---> 18\u001b[0m \u001b[39mfrom\u001b[39;00m \u001b[39mtensorflow\u001b[39;00m\u001b[39m.\u001b[39;00m\u001b[39mpython\u001b[39;00m\u001b[39m.\u001b[39;00m\u001b[39mkeras\u001b[39;00m\u001b[39m.\u001b[39;00m\u001b[39mlayers\u001b[39;00m \u001b[39mimport\u001b[39;00m advanced_activations\n\u001b[0;32m     19\u001b[0m \u001b[39mfrom\u001b[39;00m \u001b[39mtensorflow\u001b[39;00m\u001b[39m.\u001b[39;00m\u001b[39mpython\u001b[39;00m\u001b[39m.\u001b[39;00m\u001b[39mkeras\u001b[39;00m\u001b[39m.\u001b[39;00m\u001b[39mutils\u001b[39;00m\u001b[39m.\u001b[39;00m\u001b[39mgeneric_utils\u001b[39;00m \u001b[39mimport\u001b[39;00m deserialize_keras_object\n\u001b[0;32m     20\u001b[0m \u001b[39mfrom\u001b[39;00m \u001b[39mtensorflow\u001b[39;00m\u001b[39m.\u001b[39;00m\u001b[39mpython\u001b[39;00m\u001b[39m.\u001b[39;00m\u001b[39mkeras\u001b[39;00m\u001b[39m.\u001b[39;00m\u001b[39mutils\u001b[39;00m\u001b[39m.\u001b[39;00m\u001b[39mgeneric_utils\u001b[39;00m \u001b[39mimport\u001b[39;00m serialize_keras_object\n",
      "File \u001b[1;32m~\\AppData\\Roaming\\Python\\Python38\\site-packages\\tensorflow\\python\\keras\\layers\\__init__.py:22\u001b[0m, in \u001b[0;36m<module>\u001b[1;34m\u001b[0m\n\u001b[0;32m     17\u001b[0m \u001b[39mfrom\u001b[39;00m \u001b[39mtensorflow\u001b[39;00m\u001b[39m.\u001b[39;00m\u001b[39mpython\u001b[39;00m \u001b[39mimport\u001b[39;00m tf2\n\u001b[0;32m     19\u001b[0m \u001b[39m# Generic layers.\u001b[39;00m\n\u001b[0;32m     20\u001b[0m \u001b[39m# pylint: disable=g-bad-import-order\u001b[39;00m\n\u001b[0;32m     21\u001b[0m \u001b[39m# pylint: disable=g-import-not-at-top\u001b[39;00m\n\u001b[1;32m---> 22\u001b[0m \u001b[39mfrom\u001b[39;00m \u001b[39mtensorflow\u001b[39;00m\u001b[39m.\u001b[39;00m\u001b[39mpython\u001b[39;00m\u001b[39m.\u001b[39;00m\u001b[39mkeras\u001b[39;00m\u001b[39m.\u001b[39;00m\u001b[39mengine\u001b[39;00m\u001b[39m.\u001b[39;00m\u001b[39minput_layer\u001b[39;00m \u001b[39mimport\u001b[39;00m Input\n\u001b[0;32m     23\u001b[0m \u001b[39mfrom\u001b[39;00m \u001b[39mtensorflow\u001b[39;00m\u001b[39m.\u001b[39;00m\u001b[39mpython\u001b[39;00m\u001b[39m.\u001b[39;00m\u001b[39mkeras\u001b[39;00m\u001b[39m.\u001b[39;00m\u001b[39mengine\u001b[39;00m\u001b[39m.\u001b[39;00m\u001b[39minput_layer\u001b[39;00m \u001b[39mimport\u001b[39;00m InputLayer\n\u001b[0;32m     24\u001b[0m \u001b[39mfrom\u001b[39;00m \u001b[39mtensorflow\u001b[39;00m\u001b[39m.\u001b[39;00m\u001b[39mpython\u001b[39;00m\u001b[39m.\u001b[39;00m\u001b[39mkeras\u001b[39;00m\u001b[39m.\u001b[39;00m\u001b[39mengine\u001b[39;00m\u001b[39m.\u001b[39;00m\u001b[39minput_spec\u001b[39;00m \u001b[39mimport\u001b[39;00m InputSpec\n",
      "File \u001b[1;32m~\\AppData\\Roaming\\Python\\Python38\\site-packages\\tensorflow\\python\\keras\\engine\\input_layer.py:24\u001b[0m, in \u001b[0;36m<module>\u001b[1;34m\u001b[0m\n\u001b[0;32m     22\u001b[0m \u001b[39mfrom\u001b[39;00m \u001b[39mtensorflow\u001b[39;00m\u001b[39m.\u001b[39;00m\u001b[39mpython\u001b[39;00m\u001b[39m.\u001b[39;00m\u001b[39mkeras\u001b[39;00m \u001b[39mimport\u001b[39;00m backend\n\u001b[0;32m     23\u001b[0m \u001b[39mfrom\u001b[39;00m \u001b[39mtensorflow\u001b[39;00m\u001b[39m.\u001b[39;00m\u001b[39mpython\u001b[39;00m\u001b[39m.\u001b[39;00m\u001b[39mkeras\u001b[39;00m\u001b[39m.\u001b[39;00m\u001b[39mdistribute\u001b[39;00m \u001b[39mimport\u001b[39;00m distributed_training_utils\n\u001b[1;32m---> 24\u001b[0m \u001b[39mfrom\u001b[39;00m \u001b[39mtensorflow\u001b[39;00m\u001b[39m.\u001b[39;00m\u001b[39mpython\u001b[39;00m\u001b[39m.\u001b[39;00m\u001b[39mkeras\u001b[39;00m\u001b[39m.\u001b[39;00m\u001b[39mengine\u001b[39;00m \u001b[39mimport\u001b[39;00m base_layer\n\u001b[0;32m     25\u001b[0m \u001b[39mfrom\u001b[39;00m \u001b[39mtensorflow\u001b[39;00m\u001b[39m.\u001b[39;00m\u001b[39mpython\u001b[39;00m\u001b[39m.\u001b[39;00m\u001b[39mkeras\u001b[39;00m\u001b[39m.\u001b[39;00m\u001b[39mengine\u001b[39;00m \u001b[39mimport\u001b[39;00m keras_tensor\n\u001b[0;32m     26\u001b[0m \u001b[39mfrom\u001b[39;00m \u001b[39mtensorflow\u001b[39;00m\u001b[39m.\u001b[39;00m\u001b[39mpython\u001b[39;00m\u001b[39m.\u001b[39;00m\u001b[39mkeras\u001b[39;00m\u001b[39m.\u001b[39;00m\u001b[39mengine\u001b[39;00m \u001b[39mimport\u001b[39;00m node \u001b[39mas\u001b[39;00m node_module\n",
      "File \u001b[1;32m~\\AppData\\Roaming\\Python\\Python38\\site-packages\\tensorflow\\python\\keras\\engine\\base_layer.py:54\u001b[0m, in \u001b[0;36m<module>\u001b[1;34m\u001b[0m\n\u001b[0;32m     52\u001b[0m \u001b[39mfrom\u001b[39;00m \u001b[39mtensorflow\u001b[39;00m\u001b[39m.\u001b[39;00m\u001b[39mpython\u001b[39;00m\u001b[39m.\u001b[39;00m\u001b[39mkeras\u001b[39;00m\u001b[39m.\u001b[39;00m\u001b[39mmixed_precision\u001b[39;00m \u001b[39mimport\u001b[39;00m autocast_variable\n\u001b[0;32m     53\u001b[0m \u001b[39mfrom\u001b[39;00m \u001b[39mtensorflow\u001b[39;00m\u001b[39m.\u001b[39;00m\u001b[39mpython\u001b[39;00m\u001b[39m.\u001b[39;00m\u001b[39mkeras\u001b[39;00m\u001b[39m.\u001b[39;00m\u001b[39mmixed_precision\u001b[39;00m \u001b[39mimport\u001b[39;00m loss_scale_optimizer\n\u001b[1;32m---> 54\u001b[0m \u001b[39mfrom\u001b[39;00m \u001b[39mtensorflow\u001b[39;00m\u001b[39m.\u001b[39;00m\u001b[39mpython\u001b[39;00m\u001b[39m.\u001b[39;00m\u001b[39mkeras\u001b[39;00m\u001b[39m.\u001b[39;00m\u001b[39mmixed_precision\u001b[39;00m \u001b[39mimport\u001b[39;00m policy\n\u001b[0;32m     55\u001b[0m \u001b[39mfrom\u001b[39;00m \u001b[39mtensorflow\u001b[39;00m\u001b[39m.\u001b[39;00m\u001b[39mpython\u001b[39;00m\u001b[39m.\u001b[39;00m\u001b[39mkeras\u001b[39;00m\u001b[39m.\u001b[39;00m\u001b[39msaving\u001b[39;00m\u001b[39m.\u001b[39;00m\u001b[39msaved_model\u001b[39;00m \u001b[39mimport\u001b[39;00m layer_serialization\n\u001b[0;32m     56\u001b[0m \u001b[39mfrom\u001b[39;00m \u001b[39mtensorflow\u001b[39;00m\u001b[39m.\u001b[39;00m\u001b[39mpython\u001b[39;00m\u001b[39m.\u001b[39;00m\u001b[39mkeras\u001b[39;00m\u001b[39m.\u001b[39;00m\u001b[39mutils\u001b[39;00m \u001b[39mimport\u001b[39;00m generic_utils\n",
      "File \u001b[1;32m<frozen importlib._bootstrap>:991\u001b[0m, in \u001b[0;36m_find_and_load\u001b[1;34m(name, import_)\u001b[0m\n",
      "File \u001b[1;32m<frozen importlib._bootstrap>:975\u001b[0m, in \u001b[0;36m_find_and_load_unlocked\u001b[1;34m(name, import_)\u001b[0m\n",
      "File \u001b[1;32m<frozen importlib._bootstrap>:671\u001b[0m, in \u001b[0;36m_load_unlocked\u001b[1;34m(spec)\u001b[0m\n",
      "File \u001b[1;32m<frozen importlib._bootstrap_external>:839\u001b[0m, in \u001b[0;36mexec_module\u001b[1;34m(self, module)\u001b[0m\n",
      "File \u001b[1;32m<frozen importlib._bootstrap_external>:934\u001b[0m, in \u001b[0;36mget_code\u001b[1;34m(self, fullname)\u001b[0m\n",
      "File \u001b[1;32m<frozen importlib._bootstrap_external>:1032\u001b[0m, in \u001b[0;36mget_data\u001b[1;34m(self, path)\u001b[0m\n",
      "\u001b[1;31mKeyboardInterrupt\u001b[0m: "
     ]
    }
   ],
   "source": [
    "import tensorflow as tf\n",
    "from tensorflow import keras\n",
    "\n",
    "print(tf.version.VERSION)"
   ]
  },
  {
   "cell_type": "code",
   "execution_count": null,
   "metadata": {},
   "outputs": [],
   "source": [
    "new_model = tf.saved_model.load('onnxout.pb')"
   ]
  },
  {
   "cell_type": "code",
   "execution_count": null,
   "metadata": {},
   "outputs": [
    {
     "name": "stderr",
     "output_type": "stream",
     "text": [
      "WARNING:onnx2keras:Trying to convert multi-output node\n"
     ]
    },
    {
     "ename": "TypeError",
     "evalue": "Expected `name` argument to be a string, but got: ['input.3', '116', '117', 'batch_norm_dead_output-128', 'batch_norm_dead_output-129']",
     "output_type": "error",
     "traceback": [
      "\u001b[1;31m---------------------------------------------------------------------------\u001b[0m",
      "\u001b[1;31mTypeError\u001b[0m                                 Traceback (most recent call last)",
      "\u001b[1;32mc:\\Users\\sen\\Documents\\GitHub\\alphagozero-rs\\train\\export_tfjs.ipynb Cell 11'\u001b[0m in \u001b[0;36m<cell line: 8>\u001b[1;34m()\u001b[0m\n\u001b[0;32m      <a href='vscode-notebook-cell:/c%3A/Users/sen/Documents/GitHub/alphagozero-rs/train/export_tfjs.ipynb#ch0000012?line=4'>5</a>\u001b[0m onnx_model \u001b[39m=\u001b[39m onnx\u001b[39m.\u001b[39mload(\u001b[39m'\u001b[39m\u001b[39mdualnet.onnx\u001b[39m\u001b[39m'\u001b[39m)\n\u001b[0;32m      <a href='vscode-notebook-cell:/c%3A/Users/sen/Documents/GitHub/alphagozero-rs/train/export_tfjs.ipynb#ch0000012?line=6'>7</a>\u001b[0m \u001b[39m# Call the converter (input - is the main model input name, can be different for your model)\u001b[39;00m\n\u001b[1;32m----> <a href='vscode-notebook-cell:/c%3A/Users/sen/Documents/GitHub/alphagozero-rs/train/export_tfjs.ipynb#ch0000012?line=7'>8</a>\u001b[0m k_model \u001b[39m=\u001b[39m onnx_to_keras(onnx_model, [\u001b[39m'\u001b[39;49m\u001b[39mx.1\u001b[39;49m\u001b[39m'\u001b[39;49m])\n",
      "File \u001b[1;32m~\\anaconda3\\envs\\az\\lib\\site-packages\\onnx2keras\\converter.py:175\u001b[0m, in \u001b[0;36monnx_to_keras\u001b[1;34m(onnx_model, input_names, input_shapes, name_policy, verbose, change_ordering)\u001b[0m\n\u001b[0;32m    <a href='file:///c%3A/Users/sen/anaconda3/envs/az/lib/site-packages/onnx2keras/converter.py?line=171'>172</a>\u001b[0m     logger\u001b[39m.\u001b[39mdebug(\u001b[39m'\u001b[39m\u001b[39m... found all, continue\u001b[39m\u001b[39m'\u001b[39m)\n\u001b[0;32m    <a href='file:///c%3A/Users/sen/anaconda3/envs/az/lib/site-packages/onnx2keras/converter.py?line=173'>174</a>\u001b[0m keras\u001b[39m.\u001b[39mbackend\u001b[39m.\u001b[39mset_image_data_format(\u001b[39m'\u001b[39m\u001b[39mchannels_first\u001b[39m\u001b[39m'\u001b[39m)\n\u001b[1;32m--> <a href='file:///c%3A/Users/sen/anaconda3/envs/az/lib/site-packages/onnx2keras/converter.py?line=174'>175</a>\u001b[0m AVAILABLE_CONVERTERS[node_type](\n\u001b[0;32m    <a href='file:///c%3A/Users/sen/anaconda3/envs/az/lib/site-packages/onnx2keras/converter.py?line=175'>176</a>\u001b[0m     node,\n\u001b[0;32m    <a href='file:///c%3A/Users/sen/anaconda3/envs/az/lib/site-packages/onnx2keras/converter.py?line=176'>177</a>\u001b[0m     node_params,\n\u001b[0;32m    <a href='file:///c%3A/Users/sen/anaconda3/envs/az/lib/site-packages/onnx2keras/converter.py?line=177'>178</a>\u001b[0m     layers,\n\u001b[0;32m    <a href='file:///c%3A/Users/sen/anaconda3/envs/az/lib/site-packages/onnx2keras/converter.py?line=178'>179</a>\u001b[0m     lambda_funcs,\n\u001b[0;32m    <a href='file:///c%3A/Users/sen/anaconda3/envs/az/lib/site-packages/onnx2keras/converter.py?line=179'>180</a>\u001b[0m     node_name,\n\u001b[0;32m    <a href='file:///c%3A/Users/sen/anaconda3/envs/az/lib/site-packages/onnx2keras/converter.py?line=180'>181</a>\u001b[0m     keras_names\n\u001b[0;32m    <a href='file:///c%3A/Users/sen/anaconda3/envs/az/lib/site-packages/onnx2keras/converter.py?line=181'>182</a>\u001b[0m )\n\u001b[0;32m    <a href='file:///c%3A/Users/sen/anaconda3/envs/az/lib/site-packages/onnx2keras/converter.py?line=182'>183</a>\u001b[0m \u001b[39mif\u001b[39;00m \u001b[39misinstance\u001b[39m(keras_names, \u001b[39mlist\u001b[39m):\n\u001b[0;32m    <a href='file:///c%3A/Users/sen/anaconda3/envs/az/lib/site-packages/onnx2keras/converter.py?line=183'>184</a>\u001b[0m     keras_names \u001b[39m=\u001b[39m keras_names[\u001b[39m0\u001b[39m]\n",
      "File \u001b[1;32m~\\anaconda3\\envs\\az\\lib\\site-packages\\onnx2keras\\normalization_layers.py:48\u001b[0m, in \u001b[0;36mconvert_batchnorm\u001b[1;34m(node, params, layers, lambda_func, node_name, keras_name)\u001b[0m\n\u001b[0;32m     <a href='file:///c%3A/Users/sen/anaconda3/envs/az/lib/site-packages/onnx2keras/normalization_layers.py?line=40'>41</a>\u001b[0m     bn \u001b[39m=\u001b[39m keras\u001b[39m.\u001b[39mlayers\u001b[39m.\u001b[39mBatchNormalization(\n\u001b[0;32m     <a href='file:///c%3A/Users/sen/anaconda3/envs/az/lib/site-packages/onnx2keras/normalization_layers.py?line=41'>42</a>\u001b[0m         axis\u001b[39m=\u001b[39m\u001b[39m1\u001b[39m, momentum\u001b[39m=\u001b[39mmomentum, epsilon\u001b[39m=\u001b[39meps,\n\u001b[0;32m     <a href='file:///c%3A/Users/sen/anaconda3/envs/az/lib/site-packages/onnx2keras/normalization_layers.py?line=42'>43</a>\u001b[0m         center\u001b[39m=\u001b[39m\u001b[39mFalse\u001b[39;00m, scale\u001b[39m=\u001b[39m\u001b[39mFalse\u001b[39;00m,\n\u001b[0;32m     <a href='file:///c%3A/Users/sen/anaconda3/envs/az/lib/site-packages/onnx2keras/normalization_layers.py?line=43'>44</a>\u001b[0m         weights\u001b[39m=\u001b[39mweights,\n\u001b[0;32m     <a href='file:///c%3A/Users/sen/anaconda3/envs/az/lib/site-packages/onnx2keras/normalization_layers.py?line=44'>45</a>\u001b[0m         name\u001b[39m=\u001b[39mkeras_name\n\u001b[0;32m     <a href='file:///c%3A/Users/sen/anaconda3/envs/az/lib/site-packages/onnx2keras/normalization_layers.py?line=45'>46</a>\u001b[0m     )\n\u001b[0;32m     <a href='file:///c%3A/Users/sen/anaconda3/envs/az/lib/site-packages/onnx2keras/normalization_layers.py?line=46'>47</a>\u001b[0m \u001b[39melse\u001b[39;00m:\n\u001b[1;32m---> <a href='file:///c%3A/Users/sen/anaconda3/envs/az/lib/site-packages/onnx2keras/normalization_layers.py?line=47'>48</a>\u001b[0m     bn \u001b[39m=\u001b[39m keras\u001b[39m.\u001b[39;49mlayers\u001b[39m.\u001b[39;49mBatchNormalization(\n\u001b[0;32m     <a href='file:///c%3A/Users/sen/anaconda3/envs/az/lib/site-packages/onnx2keras/normalization_layers.py?line=48'>49</a>\u001b[0m         axis\u001b[39m=\u001b[39;49m\u001b[39m1\u001b[39;49m, momentum\u001b[39m=\u001b[39;49mmomentum, epsilon\u001b[39m=\u001b[39;49meps,\n\u001b[0;32m     <a href='file:///c%3A/Users/sen/anaconda3/envs/az/lib/site-packages/onnx2keras/normalization_layers.py?line=49'>50</a>\u001b[0m         weights\u001b[39m=\u001b[39;49mweights,\n\u001b[0;32m     <a href='file:///c%3A/Users/sen/anaconda3/envs/az/lib/site-packages/onnx2keras/normalization_layers.py?line=50'>51</a>\u001b[0m         name\u001b[39m=\u001b[39;49mkeras_name\n\u001b[0;32m     <a href='file:///c%3A/Users/sen/anaconda3/envs/az/lib/site-packages/onnx2keras/normalization_layers.py?line=51'>52</a>\u001b[0m     )\n\u001b[0;32m     <a href='file:///c%3A/Users/sen/anaconda3/envs/az/lib/site-packages/onnx2keras/normalization_layers.py?line=53'>54</a>\u001b[0m layers[node_name] \u001b[39m=\u001b[39m bn(input_0)\n",
      "File \u001b[1;32m~\\anaconda3\\envs\\az\\lib\\site-packages\\keras\\layers\\normalization\\batch_normalization.py:1251\u001b[0m, in \u001b[0;36mBatchNormalization.__init__\u001b[1;34m(self, axis, momentum, epsilon, center, scale, beta_initializer, gamma_initializer, moving_mean_initializer, moving_variance_initializer, beta_regularizer, gamma_regularizer, beta_constraint, gamma_constraint, **kwargs)\u001b[0m\n\u001b[0;32m   <a href='file:///c%3A/Users/sen/anaconda3/envs/az/lib/site-packages/keras/layers/normalization/batch_normalization.py?line=1235'>1236</a>\u001b[0m \u001b[39mdef\u001b[39;00m \u001b[39m__init__\u001b[39m(\u001b[39mself\u001b[39m,\n\u001b[0;32m   <a href='file:///c%3A/Users/sen/anaconda3/envs/az/lib/site-packages/keras/layers/normalization/batch_normalization.py?line=1236'>1237</a>\u001b[0m              axis\u001b[39m=\u001b[39m\u001b[39m-\u001b[39m\u001b[39m1\u001b[39m,\n\u001b[0;32m   <a href='file:///c%3A/Users/sen/anaconda3/envs/az/lib/site-packages/keras/layers/normalization/batch_normalization.py?line=1237'>1238</a>\u001b[0m              momentum\u001b[39m=\u001b[39m\u001b[39m0.99\u001b[39m,\n\u001b[1;32m   (...)\u001b[0m\n\u001b[0;32m   <a href='file:///c%3A/Users/sen/anaconda3/envs/az/lib/site-packages/keras/layers/normalization/batch_normalization.py?line=1248'>1249</a>\u001b[0m              gamma_constraint\u001b[39m=\u001b[39m\u001b[39mNone\u001b[39;00m,\n\u001b[0;32m   <a href='file:///c%3A/Users/sen/anaconda3/envs/az/lib/site-packages/keras/layers/normalization/batch_normalization.py?line=1249'>1250</a>\u001b[0m              \u001b[39m*\u001b[39m\u001b[39m*\u001b[39mkwargs):\n\u001b[1;32m-> <a href='file:///c%3A/Users/sen/anaconda3/envs/az/lib/site-packages/keras/layers/normalization/batch_normalization.py?line=1250'>1251</a>\u001b[0m   \u001b[39msuper\u001b[39;49m(BatchNormalization, \u001b[39mself\u001b[39;49m)\u001b[39m.\u001b[39;49m\u001b[39m__init__\u001b[39;49m(\n\u001b[0;32m   <a href='file:///c%3A/Users/sen/anaconda3/envs/az/lib/site-packages/keras/layers/normalization/batch_normalization.py?line=1251'>1252</a>\u001b[0m       axis\u001b[39m=\u001b[39;49maxis,\n\u001b[0;32m   <a href='file:///c%3A/Users/sen/anaconda3/envs/az/lib/site-packages/keras/layers/normalization/batch_normalization.py?line=1252'>1253</a>\u001b[0m       momentum\u001b[39m=\u001b[39;49mmomentum,\n\u001b[0;32m   <a href='file:///c%3A/Users/sen/anaconda3/envs/az/lib/site-packages/keras/layers/normalization/batch_normalization.py?line=1253'>1254</a>\u001b[0m       epsilon\u001b[39m=\u001b[39;49mepsilon,\n\u001b[0;32m   <a href='file:///c%3A/Users/sen/anaconda3/envs/az/lib/site-packages/keras/layers/normalization/batch_normalization.py?line=1254'>1255</a>\u001b[0m       center\u001b[39m=\u001b[39;49mcenter,\n\u001b[0;32m   <a href='file:///c%3A/Users/sen/anaconda3/envs/az/lib/site-packages/keras/layers/normalization/batch_normalization.py?line=1255'>1256</a>\u001b[0m       scale\u001b[39m=\u001b[39;49mscale,\n\u001b[0;32m   <a href='file:///c%3A/Users/sen/anaconda3/envs/az/lib/site-packages/keras/layers/normalization/batch_normalization.py?line=1256'>1257</a>\u001b[0m       beta_initializer\u001b[39m=\u001b[39;49mbeta_initializer,\n\u001b[0;32m   <a href='file:///c%3A/Users/sen/anaconda3/envs/az/lib/site-packages/keras/layers/normalization/batch_normalization.py?line=1257'>1258</a>\u001b[0m       gamma_initializer\u001b[39m=\u001b[39;49mgamma_initializer,\n\u001b[0;32m   <a href='file:///c%3A/Users/sen/anaconda3/envs/az/lib/site-packages/keras/layers/normalization/batch_normalization.py?line=1258'>1259</a>\u001b[0m       moving_mean_initializer\u001b[39m=\u001b[39;49mmoving_mean_initializer,\n\u001b[0;32m   <a href='file:///c%3A/Users/sen/anaconda3/envs/az/lib/site-packages/keras/layers/normalization/batch_normalization.py?line=1259'>1260</a>\u001b[0m       moving_variance_initializer\u001b[39m=\u001b[39;49mmoving_variance_initializer,\n\u001b[0;32m   <a href='file:///c%3A/Users/sen/anaconda3/envs/az/lib/site-packages/keras/layers/normalization/batch_normalization.py?line=1260'>1261</a>\u001b[0m       beta_regularizer\u001b[39m=\u001b[39;49mbeta_regularizer,\n\u001b[0;32m   <a href='file:///c%3A/Users/sen/anaconda3/envs/az/lib/site-packages/keras/layers/normalization/batch_normalization.py?line=1261'>1262</a>\u001b[0m       gamma_regularizer\u001b[39m=\u001b[39;49mgamma_regularizer,\n\u001b[0;32m   <a href='file:///c%3A/Users/sen/anaconda3/envs/az/lib/site-packages/keras/layers/normalization/batch_normalization.py?line=1262'>1263</a>\u001b[0m       beta_constraint\u001b[39m=\u001b[39;49mbeta_constraint,\n\u001b[0;32m   <a href='file:///c%3A/Users/sen/anaconda3/envs/az/lib/site-packages/keras/layers/normalization/batch_normalization.py?line=1263'>1264</a>\u001b[0m       gamma_constraint\u001b[39m=\u001b[39;49mgamma_constraint,\n\u001b[0;32m   <a href='file:///c%3A/Users/sen/anaconda3/envs/az/lib/site-packages/keras/layers/normalization/batch_normalization.py?line=1264'>1265</a>\u001b[0m       \u001b[39m*\u001b[39;49m\u001b[39m*\u001b[39;49mkwargs)\n",
      "File \u001b[1;32m~\\anaconda3\\envs\\az\\lib\\site-packages\\keras\\layers\\normalization\\batch_normalization.py:173\u001b[0m, in \u001b[0;36mBatchNormalizationBase.__init__\u001b[1;34m(self, axis, momentum, epsilon, center, scale, beta_initializer, gamma_initializer, moving_mean_initializer, moving_variance_initializer, beta_regularizer, gamma_regularizer, beta_constraint, gamma_constraint, renorm, renorm_clipping, renorm_momentum, fused, trainable, virtual_batch_size, adjustment, name, **kwargs)\u001b[0m\n\u001b[0;32m    <a href='file:///c%3A/Users/sen/anaconda3/envs/az/lib/site-packages/keras/layers/normalization/batch_normalization.py?line=149'>150</a>\u001b[0m \u001b[39mdef\u001b[39;00m \u001b[39m__init__\u001b[39m(\u001b[39mself\u001b[39m,\n\u001b[0;32m    <a href='file:///c%3A/Users/sen/anaconda3/envs/az/lib/site-packages/keras/layers/normalization/batch_normalization.py?line=150'>151</a>\u001b[0m              axis\u001b[39m=\u001b[39m\u001b[39m-\u001b[39m\u001b[39m1\u001b[39m,\n\u001b[0;32m    <a href='file:///c%3A/Users/sen/anaconda3/envs/az/lib/site-packages/keras/layers/normalization/batch_normalization.py?line=151'>152</a>\u001b[0m              momentum\u001b[39m=\u001b[39m\u001b[39m0.99\u001b[39m,\n\u001b[1;32m   (...)\u001b[0m\n\u001b[0;32m    <a href='file:///c%3A/Users/sen/anaconda3/envs/az/lib/site-packages/keras/layers/normalization/batch_normalization.py?line=170'>171</a>\u001b[0m              name\u001b[39m=\u001b[39m\u001b[39mNone\u001b[39;00m,\n\u001b[0;32m    <a href='file:///c%3A/Users/sen/anaconda3/envs/az/lib/site-packages/keras/layers/normalization/batch_normalization.py?line=171'>172</a>\u001b[0m              \u001b[39m*\u001b[39m\u001b[39m*\u001b[39mkwargs):\n\u001b[1;32m--> <a href='file:///c%3A/Users/sen/anaconda3/envs/az/lib/site-packages/keras/layers/normalization/batch_normalization.py?line=172'>173</a>\u001b[0m   \u001b[39msuper\u001b[39;49m(BatchNormalizationBase, \u001b[39mself\u001b[39;49m)\u001b[39m.\u001b[39;49m\u001b[39m__init__\u001b[39;49m(name\u001b[39m=\u001b[39;49mname, \u001b[39m*\u001b[39;49m\u001b[39m*\u001b[39;49mkwargs)\n\u001b[0;32m    <a href='file:///c%3A/Users/sen/anaconda3/envs/az/lib/site-packages/keras/layers/normalization/batch_normalization.py?line=173'>174</a>\u001b[0m   \u001b[39mif\u001b[39;00m \u001b[39misinstance\u001b[39m(axis, (\u001b[39mlist\u001b[39m, \u001b[39mtuple\u001b[39m)):\n\u001b[0;32m    <a href='file:///c%3A/Users/sen/anaconda3/envs/az/lib/site-packages/keras/layers/normalization/batch_normalization.py?line=174'>175</a>\u001b[0m     \u001b[39mself\u001b[39m\u001b[39m.\u001b[39maxis \u001b[39m=\u001b[39m axis[:]\n",
      "File \u001b[1;32m~\\AppData\\Roaming\\Python\\Python38\\site-packages\\tensorflow\\python\\training\\tracking\\base.py:629\u001b[0m, in \u001b[0;36mno_automatic_dependency_tracking.<locals>._method_wrapper\u001b[1;34m(self, *args, **kwargs)\u001b[0m\n\u001b[0;32m    <a href='file:///c%3A/Users/sen/AppData/Roaming/Python/Python38/site-packages/tensorflow/python/training/tracking/base.py?line=626'>627</a>\u001b[0m \u001b[39mself\u001b[39m\u001b[39m.\u001b[39m_self_setattr_tracking \u001b[39m=\u001b[39m \u001b[39mFalse\u001b[39;00m  \u001b[39m# pylint: disable=protected-access\u001b[39;00m\n\u001b[0;32m    <a href='file:///c%3A/Users/sen/AppData/Roaming/Python/Python38/site-packages/tensorflow/python/training/tracking/base.py?line=627'>628</a>\u001b[0m \u001b[39mtry\u001b[39;00m:\n\u001b[1;32m--> <a href='file:///c%3A/Users/sen/AppData/Roaming/Python/Python38/site-packages/tensorflow/python/training/tracking/base.py?line=628'>629</a>\u001b[0m   result \u001b[39m=\u001b[39m method(\u001b[39mself\u001b[39;49m, \u001b[39m*\u001b[39;49margs, \u001b[39m*\u001b[39;49m\u001b[39m*\u001b[39;49mkwargs)\n\u001b[0;32m    <a href='file:///c%3A/Users/sen/AppData/Roaming/Python/Python38/site-packages/tensorflow/python/training/tracking/base.py?line=629'>630</a>\u001b[0m \u001b[39mfinally\u001b[39;00m:\n\u001b[0;32m    <a href='file:///c%3A/Users/sen/AppData/Roaming/Python/Python38/site-packages/tensorflow/python/training/tracking/base.py?line=630'>631</a>\u001b[0m   \u001b[39mself\u001b[39m\u001b[39m.\u001b[39m_self_setattr_tracking \u001b[39m=\u001b[39m previous_value  \u001b[39m# pylint: disable=protected-access\u001b[39;00m\n",
      "File \u001b[1;32m~\\anaconda3\\envs\\az\\lib\\site-packages\\keras\\engine\\base_layer.py:376\u001b[0m, in \u001b[0;36mLayer.__init__\u001b[1;34m(self, trainable, name, dtype, dynamic, **kwargs)\u001b[0m\n\u001b[0;32m    <a href='file:///c%3A/Users/sen/anaconda3/envs/az/lib/site-packages/keras/engine/base_layer.py?line=370'>371</a>\u001b[0m \u001b[39m# `Layer.compute_mask` will be called at the end of `Layer.__call__` if\u001b[39;00m\n\u001b[0;32m    <a href='file:///c%3A/Users/sen/anaconda3/envs/az/lib/site-packages/keras/engine/base_layer.py?line=371'>372</a>\u001b[0m \u001b[39m# `Layer.compute_mask` is overridden, or if the `Layer` subclass sets\u001b[39;00m\n\u001b[0;32m    <a href='file:///c%3A/Users/sen/anaconda3/envs/az/lib/site-packages/keras/engine/base_layer.py?line=372'>373</a>\u001b[0m \u001b[39m# `self.supports_masking=True`.\u001b[39;00m\n\u001b[0;32m    <a href='file:///c%3A/Users/sen/anaconda3/envs/az/lib/site-packages/keras/engine/base_layer.py?line=373'>374</a>\u001b[0m \u001b[39mself\u001b[39m\u001b[39m.\u001b[39m_supports_masking \u001b[39m=\u001b[39m \u001b[39mnot\u001b[39;00m generic_utils\u001b[39m.\u001b[39mis_default(\u001b[39mself\u001b[39m\u001b[39m.\u001b[39mcompute_mask)\n\u001b[1;32m--> <a href='file:///c%3A/Users/sen/anaconda3/envs/az/lib/site-packages/keras/engine/base_layer.py?line=375'>376</a>\u001b[0m \u001b[39mself\u001b[39;49m\u001b[39m.\u001b[39;49m_init_set_name(name)\n\u001b[0;32m    <a href='file:///c%3A/Users/sen/anaconda3/envs/az/lib/site-packages/keras/engine/base_layer.py?line=376'>377</a>\u001b[0m \u001b[39mself\u001b[39m\u001b[39m.\u001b[39m_activity_regularizer \u001b[39m=\u001b[39m regularizers\u001b[39m.\u001b[39mget(\n\u001b[0;32m    <a href='file:///c%3A/Users/sen/anaconda3/envs/az/lib/site-packages/keras/engine/base_layer.py?line=377'>378</a>\u001b[0m     kwargs\u001b[39m.\u001b[39mpop(\u001b[39m'\u001b[39m\u001b[39mactivity_regularizer\u001b[39m\u001b[39m'\u001b[39m, \u001b[39mNone\u001b[39;00m))\n\u001b[0;32m    <a href='file:///c%3A/Users/sen/anaconda3/envs/az/lib/site-packages/keras/engine/base_layer.py?line=378'>379</a>\u001b[0m \u001b[39mself\u001b[39m\u001b[39m.\u001b[39m_maybe_create_attribute(\u001b[39m'\u001b[39m\u001b[39m_trainable_weights\u001b[39m\u001b[39m'\u001b[39m, [])\n",
      "File \u001b[1;32m~\\anaconda3\\envs\\az\\lib\\site-packages\\keras\\engine\\base_layer.py:2513\u001b[0m, in \u001b[0;36mLayer._init_set_name\u001b[1;34m(self, name, zero_based)\u001b[0m\n\u001b[0;32m   <a href='file:///c%3A/Users/sen/anaconda3/envs/az/lib/site-packages/keras/engine/base_layer.py?line=2510'>2511</a>\u001b[0m   \u001b[39mself\u001b[39m\u001b[39m.\u001b[39m_name \u001b[39m=\u001b[39m name\n\u001b[0;32m   <a href='file:///c%3A/Users/sen/anaconda3/envs/az/lib/site-packages/keras/engine/base_layer.py?line=2511'>2512</a>\u001b[0m \u001b[39melse\u001b[39;00m:\n\u001b[1;32m-> <a href='file:///c%3A/Users/sen/anaconda3/envs/az/lib/site-packages/keras/engine/base_layer.py?line=2512'>2513</a>\u001b[0m   \u001b[39mraise\u001b[39;00m \u001b[39mTypeError\u001b[39;00m(\n\u001b[0;32m   <a href='file:///c%3A/Users/sen/anaconda3/envs/az/lib/site-packages/keras/engine/base_layer.py?line=2513'>2514</a>\u001b[0m       \u001b[39mf\u001b[39m\u001b[39m'\u001b[39m\u001b[39mExpected `name` argument to be a string, but got: \u001b[39m\u001b[39m{\u001b[39;00mname\u001b[39m}\u001b[39;00m\u001b[39m'\u001b[39m)\n",
      "\u001b[1;31mTypeError\u001b[0m: Expected `name` argument to be a string, but got: ['input.3', '116', '117', 'batch_norm_dead_output-128', 'batch_norm_dead_output-129']"
     ]
    }
   ],
   "source": [
    "import onnx\n",
    "from onnx2keras import onnx_to_keras\n",
    "\n",
    "# Load ONNX model\n",
    "onnx_model = onnx.load('dualnet.onnx')\n",
    "\n",
    "# Call the converter (input - is the main model input name, can be different for your model)\n",
    "k_model = onnx_to_keras(onnx_model, ['x.1'])"
   ]
  },
  {
   "cell_type": "code",
   "execution_count": null,
   "metadata": {},
   "outputs": [],
   "source": []
  }
 ],
 "metadata": {
  "interpreter": {
   "hash": "51d02bb78e3979c49fe0c9f7d6058d3be1c59c7d881b06d4207c467d35e305e6"
  },
  "kernelspec": {
   "display_name": "Python 3.8.12 ('py38')",
   "language": "python",
   "name": "python3"
  },
  "language_info": {
   "codemirror_mode": {
    "name": "ipython",
    "version": 3
   },
   "file_extension": ".py",
   "mimetype": "text/x-python",
   "name": "python",
   "nbconvert_exporter": "python",
   "pygments_lexer": "ipython3",
   "version": "3.8.12"
  },
  "metadata": {
   "interpreter": {
    "hash": "a9bf1f2e6bcf5a5ddc2db4e74af98a8bb6c9f182239da13cf8d6aee21f00f13f"
   }
  },
  "orig_nbformat": 2
 },
 "nbformat": 4,
 "nbformat_minor": 2
}
